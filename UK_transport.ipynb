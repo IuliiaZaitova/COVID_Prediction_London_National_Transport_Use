{
 "cells": [
  {
   "cell_type": "markdown",
   "metadata": {},
   "source": [
    "# Calculating the COVID-19 mobility change impact on UK National Rail TfL Tube in London"
   ]
  },
  {
   "cell_type": "markdown",
   "metadata": {},
   "source": [
    "## Project: Prediction of UK National Rail London TfL Tube Demand based on COVID-19 Community Data\n",
    "In the times of global lockdown, public transportation became one of the most affected industries. Transport for London (TfL)'s fares income, for example, has fallen by 90% during lockdown. At the end of May, TfL has secured a £1.6bn (US$2bn) bailout from the government.\n",
    "\n",
    "A partial service has been operating only since the UK first went into lockdown on 23 March 2020. No service cuts were made prior to that down, even though the number of passengers has been crashing significantly since the beginning of March."
   ]
  },
  {
   "cell_type": "code",
   "execution_count": 1,
   "metadata": {
    "scrolled": true
   },
   "outputs": [],
   "source": [
    "# import packages\n",
    "import numpy as np\n",
    "import pandas as pd\n",
    "from sklearn.preprocessing import PolynomialFeatures\n",
    "from sklearn.model_selection import train_test_split\n",
    "from sklearn.metrics import r2_score\n",
    "from sklearn.linear_model import LinearRegression\n",
    "from sklearn.svm import SVR\n",
    "import matplotlib.pyplot as plt\n",
    "import seaborn as sns\n",
    "import warnings\n",
    "warnings.filterwarnings('ignore')\n",
    "\n",
    "pd.options.display.max_rows = 500\n",
    "pd.options.display.max_columns = 500\n",
    "pd.set_option('display.max_colwidth', 500)\n",
    "%matplotlib inline"
   ]
  },
  {
   "cell_type": "markdown",
   "metadata": {},
   "source": [
    "## Preparing and getting familiar the data\n",
    "-------------------------------------------\n",
    "\n",
    "The first dataset used is Google COVID-19 Community Mobility Reports: https://www.google.com/covid19/mobility/\n",
    "\n",
    "While the data is categorized by region, I'll use only the Greater London subregion of the UK to compare it to the changes in National Rail TfL Tube use in the UK. (Greater London is where the TfL Tube operates)\n",
    "The data shows how visitors to (or time spent in) categorized places change compared to the baseline days. A baseline day represents a normal value for that day of the week (so it represents 7 values for each day). The baseline day is the median value from the 5‑week period Jan 3 – Feb 6, 2020. \n",
    "\n",
    "The second dataset used reflects Transport use during the COVID-19 pandemic in the UK: https://www.gov.uk/government/statistics/transport-use-during-the-coronavirus-covid-19-pandemic\n",
    "\n",
    "The full time series for these statistics is published starting 16 March 2020. To get a fuller picture, we combined it with the previous dataset on Transport use during the COVID-19 pandemic in the UK, available here:\n",
    "https://www.gov.uk/government/publications/slides-to-accompany-coronavirus-press-conference-30-march-2020\n",
    "\n",
    "While the two datasets are categorized by means of transport, I'll use only the National Rail and TfL Tube data. TfL tube reductions were compared to the equivalent day last year. Usage is measured by entry/exit data from tube stations and bus boarding taps. This is then compared to equivalent data from 1 year ago and to other trends to gauge the extent to which travel has been reduced.\n",
    "\n",
    "*Note: Although the baseline for National Rail and TfL Tube use in the UK is set in the different time period, its choice is also justifiable. According to the source, the use of the Tube varies by ~20% seasonally and can seriously affect the results.*"
   ]
  },
  {
   "cell_type": "code",
   "execution_count": 2,
   "metadata": {},
   "outputs": [],
   "source": [
    "# importing data from the csv-files\n",
    "path_mobility_report = 'data/Global_Mobility_Report.csv'\n",
    "path_transport_mar_may = 'data/Transport_Use_mar_may.csv'\n",
    "path_transport_feb_mar = 'data/Transport_Use_feb_mar.csv'\n",
    "\n",
    "df_mobility = pd.read_csv(path_mobility_report, parse_dates = ['date'], dayfirst=False, low_memory=False) # Google mobility reports\n",
    "df_transport_feb_mar = pd.read_csv(path_transport_feb_mar, parse_dates = ['Date']) # the first UK transport dataset\n",
    "df_transport_mar_may = pd.read_csv(path_transport_mar_may, parse_dates = ['Date'], dayfirst=True) # the second UK transport dataset"
   ]
  },
  {
   "cell_type": "code",
   "execution_count": 3,
   "metadata": {},
   "outputs": [
    {
     "data": {
      "text/html": [
       "<div>\n",
       "<style scoped>\n",
       "    .dataframe tbody tr th:only-of-type {\n",
       "        vertical-align: middle;\n",
       "    }\n",
       "\n",
       "    .dataframe tbody tr th {\n",
       "        vertical-align: top;\n",
       "    }\n",
       "\n",
       "    .dataframe thead th {\n",
       "        text-align: right;\n",
       "    }\n",
       "</style>\n",
       "<table border=\"1\" class=\"dataframe\">\n",
       "  <thead>\n",
       "    <tr style=\"text-align: right;\">\n",
       "      <th></th>\n",
       "      <th>Date</th>\n",
       "      <th>Transport Type</th>\n",
       "      <th>Percentage</th>\n",
       "    </tr>\n",
       "  </thead>\n",
       "  <tbody>\n",
       "    <tr>\n",
       "      <th>0</th>\n",
       "      <td>2020-03-16</td>\n",
       "      <td>Car</td>\n",
       "      <td>-4</td>\n",
       "    </tr>\n",
       "    <tr>\n",
       "      <th>1</th>\n",
       "      <td>2020-03-17</td>\n",
       "      <td>Car</td>\n",
       "      <td>-13</td>\n",
       "    </tr>\n",
       "    <tr>\n",
       "      <th>2</th>\n",
       "      <td>2020-03-18</td>\n",
       "      <td>Car</td>\n",
       "      <td>-20</td>\n",
       "    </tr>\n",
       "    <tr>\n",
       "      <th>3</th>\n",
       "      <td>2020-03-19</td>\n",
       "      <td>Car</td>\n",
       "      <td>-21</td>\n",
       "    </tr>\n",
       "    <tr>\n",
       "      <th>4</th>\n",
       "      <td>2020-03-20</td>\n",
       "      <td>Car</td>\n",
       "      <td>-22</td>\n",
       "    </tr>\n",
       "  </tbody>\n",
       "</table>\n",
       "</div>"
      ],
      "text/plain": [
       "        Date Transport Type  Percentage\n",
       "0 2020-03-16            Car          -4\n",
       "1 2020-03-17            Car         -13\n",
       "2 2020-03-18            Car         -20\n",
       "3 2020-03-19            Car         -21\n",
       "4 2020-03-20            Car         -22"
      ]
     },
     "execution_count": 3,
     "metadata": {},
     "output_type": "execute_result"
    }
   ],
   "source": [
    "# cleaning the data for UK transport in February-March\n",
    "df_transport_feb_mar = df_transport_feb_mar.transpose()\n",
    "df_transport_feb_mar.reset_index(level=0, inplace=True)\n",
    "df_transport_feb_mar.columns = ['Date', 'All motor vehicles','National rail', 'TfL - Tube % change', 'TfL - Bus % change']\n",
    "df_transport_feb_mar.drop(df_transport_feb_mar.index[0], inplace=True)\n",
    "date_df = pd.DataFrame({'year': [2020]*34,\n",
    "                   'month': [2]*4+[3]*30,\n",
    "                   'day': [1,27,28,29]+list(range(1,31))})\n",
    "df_transport_feb_mar['Date'] = pd.to_datetime(date_df)\n",
    "df_transport_mar_may.dropna(inplace = True)\n",
    "\n",
    "# turn percentage into integers\n",
    "def into_int(column):\n",
    "    '''\n",
    "    param column: a column in a dataframe / a list with percentages\n",
    "    '''\n",
    "    list1 = []\n",
    "    for i in column:\n",
    "        l = int(i[:-1])-100\n",
    "        list1.append(l)\n",
    "    return list1\n",
    "df_transport_mar_may['Percentage'] = into_int(df_transport_mar_may['Percentage'])\n",
    "df_transport_mar_may.head()"
   ]
  },
  {
   "cell_type": "code",
   "execution_count": 4,
   "metadata": {},
   "outputs": [
    {
     "data": {
      "text/html": [
       "<div>\n",
       "<style scoped>\n",
       "    .dataframe tbody tr th:only-of-type {\n",
       "        vertical-align: middle;\n",
       "    }\n",
       "\n",
       "    .dataframe tbody tr th {\n",
       "        vertical-align: top;\n",
       "    }\n",
       "\n",
       "    .dataframe thead th {\n",
       "        text-align: right;\n",
       "    }\n",
       "</style>\n",
       "<table border=\"1\" class=\"dataframe\">\n",
       "  <thead>\n",
       "    <tr style=\"text-align: right;\">\n",
       "      <th></th>\n",
       "      <th>Date</th>\n",
       "      <th>Tfl Bus use change percentage</th>\n",
       "    </tr>\n",
       "  </thead>\n",
       "  <tbody>\n",
       "    <tr>\n",
       "      <th>1</th>\n",
       "      <td>2020-02-27</td>\n",
       "      <td>-4</td>\n",
       "    </tr>\n",
       "    <tr>\n",
       "      <th>2</th>\n",
       "      <td>2020-02-28</td>\n",
       "      <td>-5</td>\n",
       "    </tr>\n",
       "    <tr>\n",
       "      <th>3</th>\n",
       "      <td>2020-02-29</td>\n",
       "      <td>-8</td>\n",
       "    </tr>\n",
       "    <tr>\n",
       "      <th>4</th>\n",
       "      <td>2020-03-01</td>\n",
       "      <td>2</td>\n",
       "    </tr>\n",
       "    <tr>\n",
       "      <th>5</th>\n",
       "      <td>2020-03-02</td>\n",
       "      <td>-3</td>\n",
       "    </tr>\n",
       "  </tbody>\n",
       "</table>\n",
       "</div>"
      ],
      "text/plain": [
       "        Date  Tfl Bus use change percentage\n",
       "1 2020-02-27                             -4\n",
       "2 2020-02-28                             -5\n",
       "3 2020-02-29                             -8\n",
       "4 2020-03-01                              2\n",
       "5 2020-03-02                             -3"
      ]
     },
     "execution_count": 4,
     "metadata": {},
     "output_type": "execute_result"
    }
   ],
   "source": [
    "# combine the data in both UK-transport reports for required transport type\n",
    "def add_transport(column_name, sec_column_name):\n",
    "    '''\n",
    "    param column_name: name of the column in the first part of the UK-transport report\n",
    "    param sec_column_name: name of the column in the second part of the UK-transport report\n",
    "    '''\n",
    "    type_transport = df_transport_mar_may[df_transport_mar_may['Transport Type'] == column_name]\n",
    "    transport_add = df_transport_feb_mar[df_transport_feb_mar[\"Date\"].isin(pd.date_range(\"2020-02-27\", \"2020-03-15\"))][['Date',sec_column_name]]\n",
    "    transport_add.columns = ['Date', 'Percentage']\n",
    "    transport_add['Percentage'] = into_int(transport_add['Percentage'])\n",
    "\n",
    "    transport_added = pd.concat([transport_add,type_transport], sort=True)\n",
    "    del transport_added['Transport Type']\n",
    "    return transport_added\n",
    "    \n",
    "# combine the reports for TfL Tube\n",
    "tfl_tube = add_transport('TfL Tube', 'TfL - Tube % change')\n",
    "tfl_tube.rename(columns={'Percentage': 'Tfl Tube use change percentage'}, inplace=True)\n",
    "\n",
    "# combine the reports for National Rail\n",
    "national_rail = add_transport('National Rail', 'National rail')\n",
    "national_rail.rename(columns={'Percentage': 'National rail use change percentage'}, inplace=True)\n",
    "\n",
    "# combine the reports for TfL Bus\n",
    "tfl_bus = add_transport('TfL Bus', 'TfL - Bus % change')\n",
    "tfl_bus.rename(columns={'Percentage': 'Tfl Bus use change percentage'}, inplace=True)\n",
    "tfl_bus.head() # as we can see, the data for tfl bus is not fully represented for the given dates under analysis, so I decided not to include it"
   ]
  },
  {
   "cell_type": "code",
   "execution_count": 5,
   "metadata": {},
   "outputs": [
    {
     "data": {
      "text/html": [
       "<div>\n",
       "<style scoped>\n",
       "    .dataframe tbody tr th:only-of-type {\n",
       "        vertical-align: middle;\n",
       "    }\n",
       "\n",
       "    .dataframe tbody tr th {\n",
       "        vertical-align: top;\n",
       "    }\n",
       "\n",
       "    .dataframe thead th {\n",
       "        text-align: right;\n",
       "    }\n",
       "</style>\n",
       "<table border=\"1\" class=\"dataframe\">\n",
       "  <thead>\n",
       "    <tr style=\"text-align: right;\">\n",
       "      <th></th>\n",
       "      <th>Date</th>\n",
       "      <th>retail_and_recreation_percent_change_from_baseline</th>\n",
       "      <th>grocery_and_pharmacy_percent_change_from_baseline</th>\n",
       "      <th>parks_percent_change_from_baseline</th>\n",
       "      <th>transit_stations_percent_change_from_baseline</th>\n",
       "      <th>workplaces_percent_change_from_baseline</th>\n",
       "      <th>residential_percent_change_from_baseline</th>\n",
       "    </tr>\n",
       "  </thead>\n",
       "  <tbody>\n",
       "    <tr>\n",
       "      <th>56083</th>\n",
       "      <td>2020-02-27</td>\n",
       "      <td>0.0</td>\n",
       "      <td>-1.0</td>\n",
       "      <td>4.0</td>\n",
       "      <td>-1.0</td>\n",
       "      <td>0.0</td>\n",
       "      <td>1.0</td>\n",
       "    </tr>\n",
       "    <tr>\n",
       "      <th>56084</th>\n",
       "      <td>2020-02-28</td>\n",
       "      <td>-2.0</td>\n",
       "      <td>-1.0</td>\n",
       "      <td>-9.0</td>\n",
       "      <td>-2.0</td>\n",
       "      <td>0.0</td>\n",
       "      <td>1.0</td>\n",
       "    </tr>\n",
       "    <tr>\n",
       "      <th>56085</th>\n",
       "      <td>2020-02-29</td>\n",
       "      <td>-2.0</td>\n",
       "      <td>0.0</td>\n",
       "      <td>-21.0</td>\n",
       "      <td>-5.0</td>\n",
       "      <td>0.0</td>\n",
       "      <td>1.0</td>\n",
       "    </tr>\n",
       "    <tr>\n",
       "      <th>56086</th>\n",
       "      <td>2020-03-01</td>\n",
       "      <td>9.0</td>\n",
       "      <td>4.0</td>\n",
       "      <td>24.0</td>\n",
       "      <td>5.0</td>\n",
       "      <td>1.0</td>\n",
       "      <td>-1.0</td>\n",
       "    </tr>\n",
       "    <tr>\n",
       "      <th>56087</th>\n",
       "      <td>2020-03-02</td>\n",
       "      <td>2.0</td>\n",
       "      <td>6.0</td>\n",
       "      <td>15.0</td>\n",
       "      <td>-3.0</td>\n",
       "      <td>1.0</td>\n",
       "      <td>0.0</td>\n",
       "    </tr>\n",
       "  </tbody>\n",
       "</table>\n",
       "</div>"
      ],
      "text/plain": [
       "            Date  retail_and_recreation_percent_change_from_baseline  \\\n",
       "56083 2020-02-27                                                 0.0   \n",
       "56084 2020-02-28                                                -2.0   \n",
       "56085 2020-02-29                                                -2.0   \n",
       "56086 2020-03-01                                                 9.0   \n",
       "56087 2020-03-02                                                 2.0   \n",
       "\n",
       "       grocery_and_pharmacy_percent_change_from_baseline  \\\n",
       "56083                                               -1.0   \n",
       "56084                                               -1.0   \n",
       "56085                                                0.0   \n",
       "56086                                                4.0   \n",
       "56087                                                6.0   \n",
       "\n",
       "       parks_percent_change_from_baseline  \\\n",
       "56083                                 4.0   \n",
       "56084                                -9.0   \n",
       "56085                               -21.0   \n",
       "56086                                24.0   \n",
       "56087                                15.0   \n",
       "\n",
       "       transit_stations_percent_change_from_baseline  \\\n",
       "56083                                           -1.0   \n",
       "56084                                           -2.0   \n",
       "56085                                           -5.0   \n",
       "56086                                            5.0   \n",
       "56087                                           -3.0   \n",
       "\n",
       "       workplaces_percent_change_from_baseline  \\\n",
       "56083                                      0.0   \n",
       "56084                                      0.0   \n",
       "56085                                      0.0   \n",
       "56086                                      1.0   \n",
       "56087                                      1.0   \n",
       "\n",
       "       residential_percent_change_from_baseline  \n",
       "56083                                       1.0  \n",
       "56084                                       1.0  \n",
       "56085                                       1.0  \n",
       "56086                                      -1.0  \n",
       "56087                                       0.0  "
      ]
     },
     "execution_count": 5,
     "metadata": {},
     "output_type": "execute_result"
    }
   ],
   "source": [
    "# Choose the UK as the region under analysis for mobility\n",
    "uk_mobility = df_mobility[df_mobility['country_region'] == 'United Kingdom']\n",
    "uk_mobility['sub_region_1'].replace({np.nan: ' '}, inplace = True)\n",
    "\n",
    "# choose the columns and dates required for the analysis\n",
    "uk_mobility = uk_mobility[uk_mobility['date'].isin(pd.date_range('2020-02-27', '2020-05-29'))]\n",
    "uk_mobility.rename(columns={'date':'Date'}, inplace=True)\n",
    "# choose Greater London as the sub-region under analysis\n",
    "london_mobility = uk_mobility[uk_mobility['sub_region_1'] == 'Greater London']\n",
    "all_uk_mobility = uk_mobility[uk_mobility['sub_region_1'] == ' ']\n",
    "# drop the sub-region column after the region is chosen\n",
    "london_mobility = london_mobility.iloc[:,4:]\n",
    "# check for missing values\n",
    "london_mobility.isnull().any()\n",
    "london_mobility.head()"
   ]
  },
  {
   "cell_type": "markdown",
   "metadata": {},
   "source": [
    "## Merge the Data\n",
    "\n",
    "To make the further analysis easier, combine the data into a single DataFrame that allows to analyze the different features with respect to each other. It can be done by merging the two DataFrames together, joining them on the `Date` column they have in common."
   ]
  },
  {
   "cell_type": "code",
   "execution_count": 6,
   "metadata": {},
   "outputs": [
    {
     "data": {
      "text/html": [
       "<div>\n",
       "<style scoped>\n",
       "    .dataframe tbody tr th:only-of-type {\n",
       "        vertical-align: middle;\n",
       "    }\n",
       "\n",
       "    .dataframe tbody tr th {\n",
       "        vertical-align: top;\n",
       "    }\n",
       "\n",
       "    .dataframe thead th {\n",
       "        text-align: right;\n",
       "    }\n",
       "</style>\n",
       "<table border=\"1\" class=\"dataframe\">\n",
       "  <thead>\n",
       "    <tr style=\"text-align: right;\">\n",
       "      <th></th>\n",
       "      <th>Date</th>\n",
       "      <th>retail_and_recreation_percent_change_from_baseline</th>\n",
       "      <th>grocery_and_pharmacy_percent_change_from_baseline</th>\n",
       "      <th>parks_percent_change_from_baseline</th>\n",
       "      <th>transit_stations_percent_change_from_baseline</th>\n",
       "      <th>workplaces_percent_change_from_baseline</th>\n",
       "      <th>residential_percent_change_from_baseline</th>\n",
       "      <th>Tfl Tube use change percentage</th>\n",
       "      <th>National rail use change percentage</th>\n",
       "    </tr>\n",
       "  </thead>\n",
       "  <tbody>\n",
       "    <tr>\n",
       "      <th>0</th>\n",
       "      <td>2020-02-27</td>\n",
       "      <td>0.0</td>\n",
       "      <td>-1.0</td>\n",
       "      <td>4.0</td>\n",
       "      <td>-1.0</td>\n",
       "      <td>0.0</td>\n",
       "      <td>1.0</td>\n",
       "      <td>-1</td>\n",
       "      <td>-3</td>\n",
       "    </tr>\n",
       "    <tr>\n",
       "      <th>1</th>\n",
       "      <td>2020-02-28</td>\n",
       "      <td>-2.0</td>\n",
       "      <td>-1.0</td>\n",
       "      <td>-9.0</td>\n",
       "      <td>-2.0</td>\n",
       "      <td>0.0</td>\n",
       "      <td>1.0</td>\n",
       "      <td>-3</td>\n",
       "      <td>-7</td>\n",
       "    </tr>\n",
       "    <tr>\n",
       "      <th>2</th>\n",
       "      <td>2020-02-29</td>\n",
       "      <td>-2.0</td>\n",
       "      <td>0.0</td>\n",
       "      <td>-21.0</td>\n",
       "      <td>-5.0</td>\n",
       "      <td>0.0</td>\n",
       "      <td>1.0</td>\n",
       "      <td>-7</td>\n",
       "      <td>-7</td>\n",
       "    </tr>\n",
       "    <tr>\n",
       "      <th>3</th>\n",
       "      <td>2020-03-01</td>\n",
       "      <td>9.0</td>\n",
       "      <td>4.0</td>\n",
       "      <td>24.0</td>\n",
       "      <td>5.0</td>\n",
       "      <td>1.0</td>\n",
       "      <td>-1.0</td>\n",
       "      <td>4</td>\n",
       "      <td>-7</td>\n",
       "    </tr>\n",
       "    <tr>\n",
       "      <th>4</th>\n",
       "      <td>2020-03-02</td>\n",
       "      <td>2.0</td>\n",
       "      <td>6.0</td>\n",
       "      <td>15.0</td>\n",
       "      <td>-3.0</td>\n",
       "      <td>1.0</td>\n",
       "      <td>0.0</td>\n",
       "      <td>-5</td>\n",
       "      <td>-9</td>\n",
       "    </tr>\n",
       "  </tbody>\n",
       "</table>\n",
       "</div>"
      ],
      "text/plain": [
       "        Date  retail_and_recreation_percent_change_from_baseline  \\\n",
       "0 2020-02-27                                                 0.0   \n",
       "1 2020-02-28                                                -2.0   \n",
       "2 2020-02-29                                                -2.0   \n",
       "3 2020-03-01                                                 9.0   \n",
       "4 2020-03-02                                                 2.0   \n",
       "\n",
       "   grocery_and_pharmacy_percent_change_from_baseline  \\\n",
       "0                                               -1.0   \n",
       "1                                               -1.0   \n",
       "2                                                0.0   \n",
       "3                                                4.0   \n",
       "4                                                6.0   \n",
       "\n",
       "   parks_percent_change_from_baseline  \\\n",
       "0                                 4.0   \n",
       "1                                -9.0   \n",
       "2                               -21.0   \n",
       "3                                24.0   \n",
       "4                                15.0   \n",
       "\n",
       "   transit_stations_percent_change_from_baseline  \\\n",
       "0                                           -1.0   \n",
       "1                                           -2.0   \n",
       "2                                           -5.0   \n",
       "3                                            5.0   \n",
       "4                                           -3.0   \n",
       "\n",
       "   workplaces_percent_change_from_baseline  \\\n",
       "0                                      0.0   \n",
       "1                                      0.0   \n",
       "2                                      0.0   \n",
       "3                                      1.0   \n",
       "4                                      1.0   \n",
       "\n",
       "   residential_percent_change_from_baseline  Tfl Tube use change percentage  \\\n",
       "0                                       1.0                              -1   \n",
       "1                                       1.0                              -3   \n",
       "2                                       1.0                              -7   \n",
       "3                                      -1.0                               4   \n",
       "4                                       0.0                              -5   \n",
       "\n",
       "   National rail use change percentage  \n",
       "0                                   -3  \n",
       "1                                   -7  \n",
       "2                                   -7  \n",
       "3                                   -7  \n",
       "4                                   -9  "
      ]
     },
     "execution_count": 6,
     "metadata": {},
     "output_type": "execute_result"
    }
   ],
   "source": [
    "df_london_merged = pd.merge(london_mobility, tfl_tube, how='left', on='Date')\n",
    "df_london_merged = pd.merge(df_london_merged, national_rail, how='left', on='Date')\n",
    "# check for missing values\n",
    "df_london_merged.isna().any()\n",
    "df_london_merged.head()"
   ]
  },
  {
   "cell_type": "code",
   "execution_count": 7,
   "metadata": {},
   "outputs": [
    {
     "data": {
      "text/html": [
       "<div>\n",
       "<style scoped>\n",
       "    .dataframe tbody tr th:only-of-type {\n",
       "        vertical-align: middle;\n",
       "    }\n",
       "\n",
       "    .dataframe tbody tr th {\n",
       "        vertical-align: top;\n",
       "    }\n",
       "\n",
       "    .dataframe thead th {\n",
       "        text-align: right;\n",
       "    }\n",
       "</style>\n",
       "<table border=\"1\" class=\"dataframe\">\n",
       "  <thead>\n",
       "    <tr style=\"text-align: right;\">\n",
       "      <th></th>\n",
       "      <th>country_region_code</th>\n",
       "      <th>country_region</th>\n",
       "      <th>sub_region_1</th>\n",
       "      <th>sub_region_2</th>\n",
       "      <th>Date</th>\n",
       "      <th>retail_and_recreation_percent_change_from_baseline</th>\n",
       "      <th>grocery_and_pharmacy_percent_change_from_baseline</th>\n",
       "      <th>parks_percent_change_from_baseline</th>\n",
       "      <th>transit_stations_percent_change_from_baseline</th>\n",
       "      <th>workplaces_percent_change_from_baseline</th>\n",
       "      <th>residential_percent_change_from_baseline</th>\n",
       "      <th>Tfl Tube use change percentage</th>\n",
       "      <th>National rail use change percentage</th>\n",
       "    </tr>\n",
       "  </thead>\n",
       "  <tbody>\n",
       "    <tr>\n",
       "      <th>0</th>\n",
       "      <td>GB</td>\n",
       "      <td>United Kingdom</td>\n",
       "      <td></td>\n",
       "      <td>NaN</td>\n",
       "      <td>2020-02-27</td>\n",
       "      <td>2.0</td>\n",
       "      <td>1.0</td>\n",
       "      <td>8.0</td>\n",
       "      <td>0.0</td>\n",
       "      <td>0.0</td>\n",
       "      <td>0.0</td>\n",
       "      <td>-1</td>\n",
       "      <td>-3</td>\n",
       "    </tr>\n",
       "    <tr>\n",
       "      <th>1</th>\n",
       "      <td>GB</td>\n",
       "      <td>United Kingdom</td>\n",
       "      <td></td>\n",
       "      <td>NaN</td>\n",
       "      <td>2020-02-28</td>\n",
       "      <td>1.0</td>\n",
       "      <td>1.0</td>\n",
       "      <td>-13.0</td>\n",
       "      <td>0.0</td>\n",
       "      <td>-1.0</td>\n",
       "      <td>1.0</td>\n",
       "      <td>-3</td>\n",
       "      <td>-7</td>\n",
       "    </tr>\n",
       "    <tr>\n",
       "      <th>2</th>\n",
       "      <td>GB</td>\n",
       "      <td>United Kingdom</td>\n",
       "      <td></td>\n",
       "      <td>NaN</td>\n",
       "      <td>2020-02-29</td>\n",
       "      <td>1.0</td>\n",
       "      <td>1.0</td>\n",
       "      <td>-14.0</td>\n",
       "      <td>-2.0</td>\n",
       "      <td>0.0</td>\n",
       "      <td>0.0</td>\n",
       "      <td>-7</td>\n",
       "      <td>-7</td>\n",
       "    </tr>\n",
       "    <tr>\n",
       "      <th>3</th>\n",
       "      <td>GB</td>\n",
       "      <td>United Kingdom</td>\n",
       "      <td></td>\n",
       "      <td>NaN</td>\n",
       "      <td>2020-03-01</td>\n",
       "      <td>7.0</td>\n",
       "      <td>2.0</td>\n",
       "      <td>14.0</td>\n",
       "      <td>5.0</td>\n",
       "      <td>1.0</td>\n",
       "      <td>-1.0</td>\n",
       "      <td>4</td>\n",
       "      <td>-7</td>\n",
       "    </tr>\n",
       "    <tr>\n",
       "      <th>4</th>\n",
       "      <td>GB</td>\n",
       "      <td>United Kingdom</td>\n",
       "      <td></td>\n",
       "      <td>NaN</td>\n",
       "      <td>2020-03-02</td>\n",
       "      <td>4.0</td>\n",
       "      <td>4.0</td>\n",
       "      <td>14.0</td>\n",
       "      <td>0.0</td>\n",
       "      <td>1.0</td>\n",
       "      <td>0.0</td>\n",
       "      <td>-5</td>\n",
       "      <td>-9</td>\n",
       "    </tr>\n",
       "  </tbody>\n",
       "</table>\n",
       "</div>"
      ],
      "text/plain": [
       "  country_region_code  country_region sub_region_1 sub_region_2       Date  \\\n",
       "0                  GB  United Kingdom                       NaN 2020-02-27   \n",
       "1                  GB  United Kingdom                       NaN 2020-02-28   \n",
       "2                  GB  United Kingdom                       NaN 2020-02-29   \n",
       "3                  GB  United Kingdom                       NaN 2020-03-01   \n",
       "4                  GB  United Kingdom                       NaN 2020-03-02   \n",
       "\n",
       "   retail_and_recreation_percent_change_from_baseline  \\\n",
       "0                                                 2.0   \n",
       "1                                                 1.0   \n",
       "2                                                 1.0   \n",
       "3                                                 7.0   \n",
       "4                                                 4.0   \n",
       "\n",
       "   grocery_and_pharmacy_percent_change_from_baseline  \\\n",
       "0                                                1.0   \n",
       "1                                                1.0   \n",
       "2                                                1.0   \n",
       "3                                                2.0   \n",
       "4                                                4.0   \n",
       "\n",
       "   parks_percent_change_from_baseline  \\\n",
       "0                                 8.0   \n",
       "1                               -13.0   \n",
       "2                               -14.0   \n",
       "3                                14.0   \n",
       "4                                14.0   \n",
       "\n",
       "   transit_stations_percent_change_from_baseline  \\\n",
       "0                                            0.0   \n",
       "1                                            0.0   \n",
       "2                                           -2.0   \n",
       "3                                            5.0   \n",
       "4                                            0.0   \n",
       "\n",
       "   workplaces_percent_change_from_baseline  \\\n",
       "0                                      0.0   \n",
       "1                                     -1.0   \n",
       "2                                      0.0   \n",
       "3                                      1.0   \n",
       "4                                      1.0   \n",
       "\n",
       "   residential_percent_change_from_baseline  Tfl Tube use change percentage  \\\n",
       "0                                       0.0                              -1   \n",
       "1                                       1.0                              -3   \n",
       "2                                       0.0                              -7   \n",
       "3                                      -1.0                               4   \n",
       "4                                       0.0                              -5   \n",
       "\n",
       "   National rail use change percentage  \n",
       "0                                   -3  \n",
       "1                                   -7  \n",
       "2                                   -7  \n",
       "3                                   -7  \n",
       "4                                   -9  "
      ]
     },
     "execution_count": 7,
     "metadata": {},
     "output_type": "execute_result"
    }
   ],
   "source": [
    "df_uk_merged = pd.merge(all_uk_mobility, tfl_tube, how='left', on='Date')\n",
    "df_uk_merged = pd.merge(df_uk_merged, national_rail, how='left', on='Date')\n",
    "# check for missing values\n",
    "df_uk_merged.isna().any()\n",
    "df_uk_merged.head()"
   ]
  },
  {
   "cell_type": "markdown",
   "metadata": {},
   "source": [
    "## Exploratory Analysis and Feature Engineering\n",
    "Now that all of the data are together, look at their relationship"
   ]
  },
  {
   "cell_type": "code",
   "execution_count": 8,
   "metadata": {},
   "outputs": [
    {
     "data": {
      "text/html": [
       "<div>\n",
       "<style scoped>\n",
       "    .dataframe tbody tr th:only-of-type {\n",
       "        vertical-align: middle;\n",
       "    }\n",
       "\n",
       "    .dataframe tbody tr th {\n",
       "        vertical-align: top;\n",
       "    }\n",
       "\n",
       "    .dataframe thead th {\n",
       "        text-align: right;\n",
       "    }\n",
       "</style>\n",
       "<table border=\"1\" class=\"dataframe\">\n",
       "  <thead>\n",
       "    <tr style=\"text-align: right;\">\n",
       "      <th></th>\n",
       "      <th>Tfl Tube use change percentage</th>\n",
       "      <th>National rail use change percentage</th>\n",
       "    </tr>\n",
       "  </thead>\n",
       "  <tbody>\n",
       "    <tr>\n",
       "      <th>Tfl Tube use change percentage</th>\n",
       "      <td>1.000000</td>\n",
       "      <td>0.977191</td>\n",
       "    </tr>\n",
       "    <tr>\n",
       "      <th>transit_stations_percent_change_from_baseline</th>\n",
       "      <td>0.988100</td>\n",
       "      <td>0.983194</td>\n",
       "    </tr>\n",
       "    <tr>\n",
       "      <th>retail_and_recreation_percent_change_from_baseline</th>\n",
       "      <td>0.983282</td>\n",
       "      <td>0.986000</td>\n",
       "    </tr>\n",
       "    <tr>\n",
       "      <th>National rail use change percentage</th>\n",
       "      <td>0.977191</td>\n",
       "      <td>1.000000</td>\n",
       "    </tr>\n",
       "    <tr>\n",
       "      <th>workplaces_percent_change_from_baseline</th>\n",
       "      <td>0.933984</td>\n",
       "      <td>0.950371</td>\n",
       "    </tr>\n",
       "    <tr>\n",
       "      <th>residential_percent_change_from_baseline</th>\n",
       "      <td>0.865577</td>\n",
       "      <td>0.880612</td>\n",
       "    </tr>\n",
       "    <tr>\n",
       "      <th>grocery_and_pharmacy_percent_change_from_baseline</th>\n",
       "      <td>0.782043</td>\n",
       "      <td>0.850943</td>\n",
       "    </tr>\n",
       "    <tr>\n",
       "      <th>parks_percent_change_from_baseline</th>\n",
       "      <td>0.042026</td>\n",
       "      <td>0.003087</td>\n",
       "    </tr>\n",
       "  </tbody>\n",
       "</table>\n",
       "</div>"
      ],
      "text/plain": [
       "                                                    Tfl Tube use change percentage  \\\n",
       "Tfl Tube use change percentage                                            1.000000   \n",
       "transit_stations_percent_change_from_baseline                             0.988100   \n",
       "retail_and_recreation_percent_change_from_baseline                        0.983282   \n",
       "National rail use change percentage                                       0.977191   \n",
       "workplaces_percent_change_from_baseline                                   0.933984   \n",
       "residential_percent_change_from_baseline                                  0.865577   \n",
       "grocery_and_pharmacy_percent_change_from_baseline                         0.782043   \n",
       "parks_percent_change_from_baseline                                        0.042026   \n",
       "\n",
       "                                                    National rail use change percentage  \n",
       "Tfl Tube use change percentage                                                 0.977191  \n",
       "transit_stations_percent_change_from_baseline                                  0.983194  \n",
       "retail_and_recreation_percent_change_from_baseline                             0.986000  \n",
       "National rail use change percentage                                            1.000000  \n",
       "workplaces_percent_change_from_baseline                                        0.950371  \n",
       "residential_percent_change_from_baseline                                       0.880612  \n",
       "grocery_and_pharmacy_percent_change_from_baseline                              0.850943  \n",
       "parks_percent_change_from_baseline                                             0.003087  "
      ]
     },
     "execution_count": 8,
     "metadata": {},
     "output_type": "execute_result"
    }
   ],
   "source": [
    "# look at the correlation coefficients with London mobility\n",
    "transport_corr_london = df_london_merged.corr()\n",
    "#Correlation with TfL Tube and National rail Use\n",
    "cor_tube_rail_london = abs(transport_corr_london[[\"Tfl Tube use change percentage\", \"National rail use change percentage\"]])\n",
    "cor_tube_rail_london.sort_values([\"Tfl Tube use change percentage\", \"National rail use change percentage\"], ascending=[0, 1])"
   ]
  },
  {
   "cell_type": "code",
   "execution_count": 9,
   "metadata": {},
   "outputs": [
    {
     "data": {
      "text/html": [
       "<div>\n",
       "<style scoped>\n",
       "    .dataframe tbody tr th:only-of-type {\n",
       "        vertical-align: middle;\n",
       "    }\n",
       "\n",
       "    .dataframe tbody tr th {\n",
       "        vertical-align: top;\n",
       "    }\n",
       "\n",
       "    .dataframe thead th {\n",
       "        text-align: right;\n",
       "    }\n",
       "</style>\n",
       "<table border=\"1\" class=\"dataframe\">\n",
       "  <thead>\n",
       "    <tr style=\"text-align: right;\">\n",
       "      <th></th>\n",
       "      <th>Tfl Tube use change percentage</th>\n",
       "      <th>National rail use change percentage</th>\n",
       "    </tr>\n",
       "  </thead>\n",
       "  <tbody>\n",
       "    <tr>\n",
       "      <th>Tfl Tube use change percentage</th>\n",
       "      <td>1.000000</td>\n",
       "      <td>0.977191</td>\n",
       "    </tr>\n",
       "    <tr>\n",
       "      <th>National rail use change percentage</th>\n",
       "      <td>0.977191</td>\n",
       "      <td>1.000000</td>\n",
       "    </tr>\n",
       "    <tr>\n",
       "      <th>transit_stations_percent_change_from_baseline</th>\n",
       "      <td>0.972474</td>\n",
       "      <td>0.975276</td>\n",
       "    </tr>\n",
       "    <tr>\n",
       "      <th>retail_and_recreation_percent_change_from_baseline</th>\n",
       "      <td>0.961185</td>\n",
       "      <td>0.978979</td>\n",
       "    </tr>\n",
       "    <tr>\n",
       "      <th>workplaces_percent_change_from_baseline</th>\n",
       "      <td>0.916890</td>\n",
       "      <td>0.947555</td>\n",
       "    </tr>\n",
       "    <tr>\n",
       "      <th>residential_percent_change_from_baseline</th>\n",
       "      <td>0.870531</td>\n",
       "      <td>0.897137</td>\n",
       "    </tr>\n",
       "    <tr>\n",
       "      <th>grocery_and_pharmacy_percent_change_from_baseline</th>\n",
       "      <td>0.760297</td>\n",
       "      <td>0.828537</td>\n",
       "    </tr>\n",
       "    <tr>\n",
       "      <th>parks_percent_change_from_baseline</th>\n",
       "      <td>0.128551</td>\n",
       "      <td>0.112819</td>\n",
       "    </tr>\n",
       "  </tbody>\n",
       "</table>\n",
       "</div>"
      ],
      "text/plain": [
       "                                                    Tfl Tube use change percentage  \\\n",
       "Tfl Tube use change percentage                                            1.000000   \n",
       "National rail use change percentage                                       0.977191   \n",
       "transit_stations_percent_change_from_baseline                             0.972474   \n",
       "retail_and_recreation_percent_change_from_baseline                        0.961185   \n",
       "workplaces_percent_change_from_baseline                                   0.916890   \n",
       "residential_percent_change_from_baseline                                  0.870531   \n",
       "grocery_and_pharmacy_percent_change_from_baseline                         0.760297   \n",
       "parks_percent_change_from_baseline                                        0.128551   \n",
       "\n",
       "                                                    National rail use change percentage  \n",
       "Tfl Tube use change percentage                                                 0.977191  \n",
       "National rail use change percentage                                            1.000000  \n",
       "transit_stations_percent_change_from_baseline                                  0.975276  \n",
       "retail_and_recreation_percent_change_from_baseline                             0.978979  \n",
       "workplaces_percent_change_from_baseline                                        0.947555  \n",
       "residential_percent_change_from_baseline                                       0.897137  \n",
       "grocery_and_pharmacy_percent_change_from_baseline                              0.828537  \n",
       "parks_percent_change_from_baseline                                             0.112819  "
      ]
     },
     "execution_count": 9,
     "metadata": {},
     "output_type": "execute_result"
    }
   ],
   "source": [
    "# look at the correlation coefficients with UK mobility\n",
    "transport_corr_uk = df_uk_merged.corr()\n",
    "#Correlation with TfL Tube and National rail Use\n",
    "cor_tube_rail_uk = abs(transport_corr_uk[[\"Tfl Tube use change percentage\", \"National rail use change percentage\"]])\n",
    "cor_tube_rail_uk.sort_values([\"Tfl Tube use change percentage\", \"National rail use change percentage\"], ascending=[0, 1])"
   ]
  },
  {
   "cell_type": "markdown",
   "metadata": {},
   "source": [
    "We can see that on crucial variables for both National Rail and TfL Tube, the correlation of London mobility is stronger than that with UK mobility.\n",
    "So we can keep working with London mobility."
   ]
  },
  {
   "cell_type": "markdown",
   "metadata": {},
   "source": [
    "## Choose the most significant Mobility Variables using Feature selection\n",
    "As the correlation table shows, there are many variables that have a very strong correlation with Transport Variables. Exclude the variables that are less relevant (< 0.9) to transport use prediction\n",
    "according to the correlation scores."
   ]
  },
  {
   "cell_type": "code",
   "execution_count": 10,
   "metadata": {},
   "outputs": [
    {
     "data": {
      "text/html": [
       "<div>\n",
       "<style scoped>\n",
       "    .dataframe tbody tr th:only-of-type {\n",
       "        vertical-align: middle;\n",
       "    }\n",
       "\n",
       "    .dataframe tbody tr th {\n",
       "        vertical-align: top;\n",
       "    }\n",
       "\n",
       "    .dataframe thead th {\n",
       "        text-align: right;\n",
       "    }\n",
       "</style>\n",
       "<table border=\"1\" class=\"dataframe\">\n",
       "  <thead>\n",
       "    <tr style=\"text-align: right;\">\n",
       "      <th></th>\n",
       "      <th>Date</th>\n",
       "      <th>retail_and_recreation_percent_change_from_baseline</th>\n",
       "      <th>transit_stations_percent_change_from_baseline</th>\n",
       "      <th>workplaces_percent_change_from_baseline</th>\n",
       "      <th>Tfl Tube use change percentage</th>\n",
       "      <th>National rail use change percentage</th>\n",
       "    </tr>\n",
       "  </thead>\n",
       "  <tbody>\n",
       "    <tr>\n",
       "      <th>0</th>\n",
       "      <td>2020-02-27</td>\n",
       "      <td>0.0</td>\n",
       "      <td>-1.0</td>\n",
       "      <td>0.0</td>\n",
       "      <td>-1</td>\n",
       "      <td>-3</td>\n",
       "    </tr>\n",
       "    <tr>\n",
       "      <th>1</th>\n",
       "      <td>2020-02-28</td>\n",
       "      <td>-2.0</td>\n",
       "      <td>-2.0</td>\n",
       "      <td>0.0</td>\n",
       "      <td>-3</td>\n",
       "      <td>-7</td>\n",
       "    </tr>\n",
       "    <tr>\n",
       "      <th>2</th>\n",
       "      <td>2020-02-29</td>\n",
       "      <td>-2.0</td>\n",
       "      <td>-5.0</td>\n",
       "      <td>0.0</td>\n",
       "      <td>-7</td>\n",
       "      <td>-7</td>\n",
       "    </tr>\n",
       "    <tr>\n",
       "      <th>3</th>\n",
       "      <td>2020-03-01</td>\n",
       "      <td>9.0</td>\n",
       "      <td>5.0</td>\n",
       "      <td>1.0</td>\n",
       "      <td>4</td>\n",
       "      <td>-7</td>\n",
       "    </tr>\n",
       "    <tr>\n",
       "      <th>4</th>\n",
       "      <td>2020-03-02</td>\n",
       "      <td>2.0</td>\n",
       "      <td>-3.0</td>\n",
       "      <td>1.0</td>\n",
       "      <td>-5</td>\n",
       "      <td>-9</td>\n",
       "    </tr>\n",
       "  </tbody>\n",
       "</table>\n",
       "</div>"
      ],
      "text/plain": [
       "        Date  retail_and_recreation_percent_change_from_baseline  \\\n",
       "0 2020-02-27                                                 0.0   \n",
       "1 2020-02-28                                                -2.0   \n",
       "2 2020-02-29                                                -2.0   \n",
       "3 2020-03-01                                                 9.0   \n",
       "4 2020-03-02                                                 2.0   \n",
       "\n",
       "   transit_stations_percent_change_from_baseline  \\\n",
       "0                                           -1.0   \n",
       "1                                           -2.0   \n",
       "2                                           -5.0   \n",
       "3                                            5.0   \n",
       "4                                           -3.0   \n",
       "\n",
       "   workplaces_percent_change_from_baseline  Tfl Tube use change percentage  \\\n",
       "0                                      0.0                              -1   \n",
       "1                                      0.0                              -3   \n",
       "2                                      0.0                              -7   \n",
       "3                                      1.0                               4   \n",
       "4                                      1.0                              -5   \n",
       "\n",
       "   National rail use change percentage  \n",
       "0                                   -3  \n",
       "1                                   -7  \n",
       "2                                   -7  \n",
       "3                                   -7  \n",
       "4                                   -9  "
      ]
     },
     "execution_count": 10,
     "metadata": {},
     "output_type": "execute_result"
    }
   ],
   "source": [
    "# Since irrelevant London mobility features are the same for both National Rail and TfL Tube, drop them in the same df\n",
    "df_london_merged.drop(columns=['grocery_and_pharmacy_percent_change_from_baseline', 'parks_percent_change_from_baseline', 'residential_percent_change_from_baseline', 'grocery_and_pharmacy_percent_change_from_baseline'], inplace=True)\n",
    "df_london_merged.head()"
   ]
  },
  {
   "cell_type": "markdown",
   "metadata": {},
   "source": [
    "## Multicollinearity\n",
    "Check out the correlation structure between the predictor variables against multicollinearity."
   ]
  },
  {
   "cell_type": "code",
   "execution_count": 11,
   "metadata": {},
   "outputs": [
    {
     "data": {
      "image/png": "[encoded data removed]",
      "text/plain": [
       "<Figure size 432x288 with 2 Axes>"
      ]
     },
     "metadata": {
      "needs_background": "light"
     },
     "output_type": "display_data"
    }
   ],
   "source": [
    "# look at the correlation coefficients of variables left\n",
    "transport_corr_london_merged = df_london_merged.corr()\n",
    "sns.heatmap(transport_corr_london_merged, annot=True, cmap=plt.cm.Reds)\n",
    "plt.show()"
   ]
  },
  {
   "cell_type": "markdown",
   "metadata": {},
   "source": [
    "## We can see that all the mobility variables left have a strong correlation with each other\n",
    "Because `retail_and_recreation_percent_change_from_baseline` has a perfect correlation with National Rail Use and\n",
    "`transit_stations_percent_change_from_baseline` a perfect correlation with TfL Ube Use, we would leave these variables to predict the use of two types of transport individually. \n",
    "\n",
    "The variable `workplaces_percent_change_from_baseline` seems redundant, since it is highly correlated with two other mobility features, but less correlated with Transport Use."
   ]
  },
  {
   "cell_type": "code",
   "execution_count": 12,
   "metadata": {},
   "outputs": [],
   "source": [
    "df_london_merged.drop(columns=['workplaces_percent_change_from_baseline'], inplace=True)"
   ]
  },
  {
   "cell_type": "code",
   "execution_count": 13,
   "metadata": {
    "scrolled": false
   },
   "outputs": [
    {
     "data": {
      "text/plain": [
       "<Figure size 720x432 with 0 Axes>"
      ]
     },
     "metadata": {},
     "output_type": "display_data"
    },
    {
     "data": {
      "image/png": "[encoded data removed]",
      "text/plain": [
       "<Figure size 720x432 with 1 Axes>"
      ]
     },
     "metadata": {
      "needs_background": "light"
     },
     "output_type": "display_data"
    },
    {
     "data": {
      "image/png": "[encoded data removed]",
      "text/plain": [
       "<Figure size 720x432 with 1 Axes>"
      ]
     },
     "metadata": {
      "needs_background": "light"
     },
     "output_type": "display_data"
    }
   ],
   "source": [
    "# plot the TfL Tube and National Rail with the most significant mobility features \n",
    "plt.figure(figsize = (10, 6))\n",
    "ax = df_london_merged.plot(figsize = (10, 6), x='Date', y='transit_stations_percent_change_from_baseline', label = 'Transit Stations Mobility Change from the Baseline')\n",
    "df_london_merged.plot(x='Date', y='Tfl Tube use change percentage', label = 'TFL Tube Change from the Baseline', ax=ax)\n",
    "ax.axvline(x='2020-03-23', color='gray', linestyle='--', label = 'Lockdown introduction')\n",
    "ax.axvspan('2020-03-23', '2020-05-29', alpha=0.1, color='gray')\n",
    "ax.set_ylabel('Change from the baseline in percent')\n",
    "ax.set_xlabel('Date')\n",
    "plt.xticks(['2020-02-27', '2020-03-01', '2020-03-15', '2020-03-23', '2020-04-01', '2020-04-15', '2020-05-01', '2020-05-15', '2020-05-29'], ['Feb 27', 'March 1', 'March 15', 'March 23 \\n LOCKDOWN', 'April 1', 'April 15', 'May 1', 'May 15', 'May 29'],rotation=20)\n",
    "plt.title(\"Mobility vs TfL Tube Use\")\n",
    "plt.ylim(-120, 120)\n",
    "\n",
    "fig = df_london_merged.plot(figsize = (10, 6), x='Date', y='retail_and_recreation_percent_change_from_baseline', label = 'Retail and Recreation Mobility Change from the Baseline')\n",
    "df_london_merged.plot(x='Date', y='National rail use change percentage', label = 'National rail use change percentage', ax=fig)\n",
    "fig.axvline(x='2020-03-23', color='gray', linestyle='--', label = 'Lockdown introduction')\n",
    "fig.axvspan('2020-03-23', '2020-05-29', alpha=0.1, color='gray')\n",
    "fig.set_ylabel('Change from the baseline in percent')\n",
    "fig.set_xlabel('Date')\n",
    "plt.title(\"Mobility vs National Rail Use\")\n",
    "\n",
    "\n",
    "plt.xticks(['2020-02-27', '2020-03-01', '2020-03-15', '2020-03-23', '2020-04-01', '2020-04-15', '2020-05-01', '2020-05-15', '2020-05-29'], ['Feb 27', 'March 1', 'March 15', 'March 23 \\n LOCKDOWN', 'April 1', 'April 15', 'May 1', 'May 15', 'May 29'],rotation=20)\n",
    "plt.ylim(-120, 120)\n",
    "plt.grid(axis='y')\n",
    "ax.legend()\n",
    "fig.legend()\n",
    "plt.show()\n"
   ]
  },
  {
   "cell_type": "markdown",
   "metadata": {},
   "source": [
    "Both the correlation coefficient and graph shows that both **National Rail** and **TfL** use have a very strong correlation with certain mobility variables. The heatmap of correlation coefficients allowed us to choose the most significant predictor variable and avoid noise that comes from inter-correlation of mobility variables.\n",
    "\n",
    "The graphs shows no huge spikes that could mark significant outliers in the data. Therefore, we cannot assume any signicant dataset errors.\n",
    "\n",
    "Now, when we see that the data indeed has a strong correlation, build the prediction model."
   ]
  },
  {
   "cell_type": "markdown",
   "metadata": {},
   "source": [
    "## Implement and train machine learning models\n",
    "\n",
    "Because of a limited size of the data, I decided not to use Deep Learning and try out ML Regression Models: Linear Regression, Polynomial Regression, and SV Regression.\n",
    "As targets, I will use `National rail use change percentage` and `Tfl Tube use change percentage`\n"
   ]
  },
  {
   "cell_type": "markdown",
   "metadata": {},
   "source": [
    "### Start with predicting TfL Tube Use change\n",
    "Use `transit_stations_percent_change_from_baseline` as predictor, and `Tfl Tube use change percentage` as target.\n"
   ]
  },
  {
   "cell_type": "markdown",
   "metadata": {},
   "source": [
    "### Split the Data into Training and Testing Sets\n",
    "Prior to modeling, I first break our data into a training set and a test set to be able to evaluate how well the future model performs. I use scikit-learn's `train_test_split` function to do this split\n",
    "Split columns of `df_london_merged` into predictor and target variables.\n"
   ]
  },
  {
   "cell_type": "code",
   "execution_count": 14,
   "metadata": {},
   "outputs": [],
   "source": [
    "# Take out the values of the columns I want to work on\n",
    "tfl_mob_predictor = df_london_merged[['Date','transit_stations_percent_change_from_baseline']].values\n",
    "tfl_mob_target = df_london_merged['Tfl Tube use change percentage'].values\n",
    "tfl_mob_predictor_train, tfl_mob_predictor_test, tfl_mob_target_train, tfl_mob_target_test = train_test_split(tfl_mob_predictor, tfl_mob_target, test_size = 0.25, random_state = 1)\n",
    "# Create variables for training and testing the models\n",
    "X = np.delete(tfl_mob_predictor_train, 0, 1)\n",
    "y = tfl_mob_target_train\n",
    "X_dates = tfl_mob_predictor_train[:, 0] # take out the Date column for further plotting\n",
    "\n",
    "X_test = np.delete(tfl_mob_predictor_test, 0, 1)\n",
    "X_test_dates = tfl_mob_predictor_test[:, 0]\n",
    "y_test = tfl_mob_target_test"
   ]
  },
  {
   "cell_type": "markdown",
   "metadata": {},
   "source": [
    "### Implement a Simple Linear Regression Model"
   ]
  },
  {
   "cell_type": "code",
   "execution_count": 15,
   "metadata": {},
   "outputs": [
    {
     "data": {
      "text/plain": [
       "LinearRegression(copy_X=True, fit_intercept=False, n_jobs=None, normalize=True)"
      ]
     },
     "execution_count": 15,
     "metadata": {},
     "output_type": "execute_result"
    }
   ],
   "source": [
    "# Fit Linear Regression to the dataset\n",
    "linear_model = LinearRegression(normalize=True, fit_intercept=False)\n",
    "linear_model.fit(X, y)"
   ]
  },
  {
   "cell_type": "code",
   "execution_count": 16,
   "metadata": {},
   "outputs": [
    {
     "data": {
      "image/png": "[encoded data removed]",
      "text/plain": [
       "<Figure size 432x288 with 1 Axes>"
      ]
     },
     "metadata": {
      "needs_background": "light"
     },
     "output_type": "display_data"
    },
    {
     "data": {
      "image/png": "[encoded data removed]",
      "text/plain": [
       "<Figure size 432x288 with 1 Axes>"
      ]
     },
     "metadata": {
      "needs_background": "light"
     },
     "output_type": "display_data"
    }
   ],
   "source": [
    "# plot Prediction against Target\n",
    "train_predicted = linear_model.predict(X)\n",
    "train_result = pd.DataFrame()\n",
    "train_result[\"Dates\"] = X_dates\n",
    "train_result[\"Train_predicted\"] = train_predicted\n",
    "train_result[\"Train\"] = y\n",
    "ax = train_result.plot(x ='Dates', y='Train', kind = 'line', label='TfL Train Target')\n",
    "train_result.plot(x ='Dates', y='Train_predicted', linestyle='dashed', kind = 'line', ax=ax, label='TfL Train Predicted')\n",
    "plt.title('Linear Regression train prediction')\n",
    "\n",
    "test_predicted = linear_model.predict(X_test)\n",
    "\n",
    "test_result = pd.DataFrame()\n",
    "test_result[\"Dates\"] = X_test_dates\n",
    "test_result[\"Test_predicted\"] = test_predicted\n",
    "test_result[\"Test\"] = y_test\n",
    "fig = test_result.plot(x ='Dates', y='Test', kind = 'line', label='TfL Test Target')\n",
    "test_result.plot(x ='Dates', y='Test_predicted', linestyle='dashed', kind = 'line', label='TfL Test Predicted', ax=fig)\n",
    "plt.title('Linear Regression test prediction')\n",
    "# Score the model\n",
    "score_tfl_mob_lyn = 'linearmodel test set R2:',linear_model.score(X_test,y_test)"
   ]
  },
  {
   "cell_type": "markdown",
   "metadata": {},
   "source": [
    "### Implement a Polynomial Regression Model"
   ]
  },
  {
   "cell_type": "code",
   "execution_count": 17,
   "metadata": {},
   "outputs": [
    {
     "data": {
      "text/plain": [
       "LinearRegression(copy_X=True, fit_intercept=False, n_jobs=None, normalize=True)"
      ]
     },
     "execution_count": 17,
     "metadata": {},
     "output_type": "execute_result"
    }
   ],
   "source": [
    "# Fit the polynomial Regression\n",
    "poly_features = PolynomialFeatures(degree=4)\n",
    "X_poly = poly_features.fit_transform(X)\n",
    "X_poly_test = poly_features.fit_transform(X_test)\n",
    "poly_linear_model = LinearRegression(normalize=True, fit_intercept=False)\n",
    "poly_linear_model.fit(X_poly, y)"
   ]
  },
  {
   "cell_type": "code",
   "execution_count": 18,
   "metadata": {},
   "outputs": [
    {
     "data": {
      "image/png": "[encoded data removed]",
      "text/plain": [
       "<Figure size 432x288 with 1 Axes>"
      ]
     },
     "metadata": {
      "needs_background": "light"
     },
     "output_type": "display_data"
    },
    {
     "data": {
      "image/png": "[encoded data removed]",
      "text/plain": [
       "<Figure size 432x288 with 1 Axes>"
      ]
     },
     "metadata": {
      "needs_background": "light"
     },
     "output_type": "display_data"
    }
   ],
   "source": [
    "# plot Polyn. Regr. Prediction against Target \n",
    "train_predicted = poly_linear_model.predict(X_poly)\n",
    "train_result = pd.DataFrame()\n",
    "train_result[\"Dates\"] = X_dates\n",
    "train_result[\"Train_predicted\"] = train_predicted\n",
    "train_result[\"Train\"] = y\n",
    "ax = train_result.plot(x ='Dates', y='Train', kind = 'line')\n",
    "train_result.plot(x ='Dates', y= 'Train_predicted', linestyle='dashed', kind = 'line', ax=ax)\n",
    "\n",
    "test_predicted = poly_linear_model.predict(X_poly_test)\n",
    "test_result = pd.DataFrame()\n",
    "test_result[\"Dates\"] = X_test_dates\n",
    "test_result[\"Test_predicted\"] = test_predicted\n",
    "test_result[\"Test\"] = y_test\n",
    "fig = test_result.plot(x ='Dates', y='Test', kind = 'line')\n",
    "test_result.plot(x ='Dates', y='Test_predicted', kind = 'line', linestyle='dashed',ax=fig)\n",
    "# Score the model\n",
    "score_tfl_mob_pln = 'polymodel test set R2:',poly_linear_model.score(X_poly_test,y_test)"
   ]
  },
  {
   "cell_type": "markdown",
   "metadata": {},
   "source": [
    "### Implement a Support Vector Regression Model"
   ]
  },
  {
   "cell_type": "code",
   "execution_count": 19,
   "metadata": {},
   "outputs": [],
   "source": [
    "# Fit the SV Regression\n",
    "svrModel = SVR(epsilon=1)\n",
    "svrModel.fit(X,y)\n",
    "svr_train_predicted = svrModel.predict(X)"
   ]
  },
  {
   "cell_type": "code",
   "execution_count": 20,
   "metadata": {},
   "outputs": [
    {
     "data": {
      "image/png": "[encoded data removed]",
      "text/plain": [
       "<Figure size 432x288 with 1 Axes>"
      ]
     },
     "metadata": {
      "needs_background": "light"
     },
     "output_type": "display_data"
    },
    {
     "data": {
      "image/png": "[encoded data removed]",
      "text/plain": [
       "<Figure size 432x288 with 1 Axes>"
      ]
     },
     "metadata": {
      "needs_background": "light"
     },
     "output_type": "display_data"
    }
   ],
   "source": [
    "# plot SVR Prediction against Target \n",
    "svr_data = pd.DataFrame()\n",
    "svr_data[\"Dates\"] = X_dates\n",
    "svr_data[\"Train\"] = y\n",
    "svr_data[\"Train_predicted\"] = svr_train_predicted\n",
    "svr_data.plot(x ='Dates', y=['Train','Train_predicted'], kind = 'line')\n",
    "svr_test_predicted = svrModel.predict(X_test)\n",
    "\n",
    "svr_test_data = pd.DataFrame()\n",
    "svr_test_data[\"Dates\"] = X_test_dates\n",
    "svr_test_data[\"Test\"] = y_test\n",
    "svr_test_data[\"Test_predicted\"] = svr_test_predicted\n",
    "svr_test_data.plot(x ='Dates', y=['Test','Test_predicted'], kind = 'line')\n",
    "# Score the model\n",
    "score_tfl_mob_svr = 'linearmodel train set R2:',svrModel.score(X_test,y_test)"
   ]
  },
  {
   "cell_type": "markdown",
   "metadata": {},
   "source": [
    "### Look at and Compare R2 Scores"
   ]
  },
  {
   "cell_type": "code",
   "execution_count": 21,
   "metadata": {},
   "outputs": [
    {
     "name": "stdout",
     "output_type": "stream",
     "text": [
      "('linearmodel test set R2:', 0.9551835120458505)\n",
      "('polymodel test set R2:', 0.9930222636926597)\n",
      "('linearmodel train set R2:', 0.6189199912169626)\n"
     ]
    }
   ],
   "source": [
    "print(score_tfl_mob_lyn)\n",
    "print(score_tfl_mob_pln)\n",
    "print(score_tfl_mob_svr)"
   ]
  },
  {
   "cell_type": "markdown",
   "metadata": {},
   "source": [
    "We can see that the Polynomial Regression Model produces the best R2 score on **TfL Use Prediction**. \n",
    "Consequently, this model can be used to further predict Demand on TfL Tube in London."
   ]
  },
  {
   "cell_type": "markdown",
   "metadata": {},
   "source": [
    "### Predict National Rail Use\n",
    "Use `retail_and_recreation_percent_change_from_baseline` as predictor, and `National rail use change percentage` as target.\n",
    "Since the data for National Rail Use are analogous to those of TfL Tube, I am using the Polynomial Regression Model directly without testing other models.\n"
   ]
  },
  {
   "cell_type": "markdown",
   "metadata": {},
   "source": [
    "### Split the Data into Training and Testing Sets\n",
    "Prior to modeling, I again first break our data into a training set and a test set to be able to evaluate how well the future model performs. I use scikit-learn's `train_test_split` function to do this split of columns of `df_london_merged` into predictor and target variables.\n"
   ]
  },
  {
   "cell_type": "code",
   "execution_count": 22,
   "metadata": {},
   "outputs": [],
   "source": [
    "# Take out the values of the columns I want to work on\n",
    "rail_mob_predictor = df_london_merged[['Date','retail_and_recreation_percent_change_from_baseline']].values\n",
    "rail_mob_target = df_london_merged['National rail use change percentage'].values\n",
    "rail_mob_predictor_train, rail_mob_predictor_test, rail_mob_target_train, rail_mob_target_test = train_test_split(rail_mob_predictor, rail_mob_target, test_size = 0.25, random_state = 1)\n",
    "\n",
    "# Create variables for training and testing the Polymodel\n",
    "X = np.delete(rail_mob_predictor_train, 0, 1)\n",
    "y = rail_mob_target_train\n",
    "X_dates = rail_mob_predictor_train[:, 0] # take out the Date column for further plotting\n",
    "\n",
    "X_test = np.delete(rail_mob_predictor_test, 0, 1)\n",
    "X_test_dates = rail_mob_predictor_test[:, 0]\n",
    "y_test = rail_mob_target_test"
   ]
  },
  {
   "cell_type": "markdown",
   "metadata": {},
   "source": [
    "### Implement a Polynomial Regression Model"
   ]
  },
  {
   "cell_type": "code",
   "execution_count": 23,
   "metadata": {},
   "outputs": [
    {
     "data": {
      "text/plain": [
       "LinearRegression(copy_X=True, fit_intercept=False, n_jobs=None, normalize=True)"
      ]
     },
     "execution_count": 23,
     "metadata": {},
     "output_type": "execute_result"
    }
   ],
   "source": [
    "# Fit the polynomial Regression\n",
    "poly_features = PolynomialFeatures(degree=4)\n",
    "X_poly = poly_features.fit_transform(X)\n",
    "X_poly_test = poly_features.fit_transform(X_test)\n",
    "poly_linear_model = LinearRegression(normalize=True, fit_intercept=False)\n",
    "poly_linear_model.fit(X_poly, y)"
   ]
  },
  {
   "cell_type": "code",
   "execution_count": 24,
   "metadata": {},
   "outputs": [
    {
     "name": "stdout",
     "output_type": "stream",
     "text": [
      "('polymodel test set R2:', 0.9860334961967764)\n"
     ]
    },
    {
     "data": {
      "image/png": "[encoded data removed]",
      "text/plain": [
       "<Figure size 432x288 with 1 Axes>"
      ]
     },
     "metadata": {
      "needs_background": "light"
     },
     "output_type": "display_data"
    },
    {
     "data": {
      "image/png": "[encoded data removed]",
      "text/plain": [
       "<Figure size 432x288 with 1 Axes>"
      ]
     },
     "metadata": {
      "needs_background": "light"
     },
     "output_type": "display_data"
    }
   ],
   "source": [
    "# plot Polyn. Regr. Prediction against Target \n",
    "train_predicted = poly_linear_model.predict(X_poly)\n",
    "train_result = pd.DataFrame()\n",
    "train_result[\"Dates\"] = X_dates\n",
    "train_result[\"Train_predicted\"] = train_predicted\n",
    "train_result[\"Train\"] = y\n",
    "ax = train_result.plot(x ='Dates', y='Train', kind = 'line', label='Rail Target Train')\n",
    "train_result.plot(x ='Dates', y= 'Train_predicted', linestyle='dashed', kind = 'line', ax=ax, label='Rail Predicted Train')\n",
    "\n",
    "test_predicted = poly_linear_model.predict(X_poly_test)\n",
    "test_result = pd.DataFrame()\n",
    "test_result[\"Dates\"] = X_test_dates\n",
    "test_result[\"Test_predicted\"] = test_predicted\n",
    "test_result[\"Test\"] = y_test\n",
    "fig = test_result.plot(x ='Dates', y='Test', kind = 'line', label='Rail Target Test')\n",
    "test_result.plot(x ='Dates', y='Test_predicted', kind = 'line', linestyle='dashed',ax=fig, label='Rail Predicted Test')\n",
    "# Score the model\n",
    "score_rail_mob_pln = 'polymodel test set R2:',poly_linear_model.score(X_poly_test,y_test)\n",
    "print(score_rail_mob_pln)"
   ]
  },
  {
   "cell_type": "markdown",
   "metadata": {},
   "source": [
    "## Investigating the Relationship of COVID-19 Transport and Mobility change and New COVID-19 Cases\n",
    "\n",
    "#### New Infection Cases\n",
    "The first dataset used reflects daily new cases of COVID-19 worldwide and is maintained by **Our World in Data**:\n",
    "https://ourworldindata.org/coronavirus-source-data\n",
    "\n",
    "The second dataset used reflects daily new cases of COVID-19 in different regions of the UK and is maintained by **GOV.uk**:\n",
    "https://coronavirus.data.gov.uk/\n",
    "\n",
    "#### New Death Cases\n",
    "The dataset reflecting daily new COVID-19 deaths in the United Kingdom is taken from https://coronavirus.data.gov.uk/\n",
    "\n",
    "The dataset reflecting daily new COVID-19 deaths globally belongs to **European Centre for Disease Prevention and Control** https://www.ecdc.europa.eu/en/geographical-distribution-2019-ncov-cases\n",
    "\n"
   ]
  },
  {
   "cell_type": "code",
   "execution_count": 139,
   "metadata": {},
   "outputs": [
    {
     "data": {
      "text/html": [
       "<div>\n",
       "<style scoped>\n",
       "    .dataframe tbody tr th:only-of-type {\n",
       "        vertical-align: middle;\n",
       "    }\n",
       "\n",
       "    .dataframe tbody tr th {\n",
       "        vertical-align: top;\n",
       "    }\n",
       "\n",
       "    .dataframe thead th {\n",
       "        text-align: right;\n",
       "    }\n",
       "</style>\n",
       "<table border=\"1\" class=\"dataframe\">\n",
       "  <thead>\n",
       "    <tr style=\"text-align: right;\">\n",
       "      <th></th>\n",
       "      <th>Area name</th>\n",
       "      <th>Area code</th>\n",
       "      <th>Area type</th>\n",
       "      <th>date</th>\n",
       "      <th>Daily lab-confirmed cases</th>\n",
       "      <th>Previously reported daily cases</th>\n",
       "      <th>Change in daily cases</th>\n",
       "      <th>Cumulative lab-confirmed cases</th>\n",
       "      <th>Previously reported cumulative cases</th>\n",
       "      <th>Change in cumulative cases</th>\n",
       "      <th>Cumulative lab-confirmed cases rate</th>\n",
       "    </tr>\n",
       "  </thead>\n",
       "  <tbody>\n",
       "    <tr>\n",
       "      <th>3</th>\n",
       "      <td>London</td>\n",
       "      <td>E12000007</td>\n",
       "      <td>Region</td>\n",
       "      <td>2020-06-08</td>\n",
       "      <td>0.0</td>\n",
       "      <td>NaN</td>\n",
       "      <td>NaN</td>\n",
       "      <td>27194</td>\n",
       "      <td>NaN</td>\n",
       "      <td>NaN</td>\n",
       "      <td>305.3</td>\n",
       "    </tr>\n",
       "    <tr>\n",
       "      <th>479</th>\n",
       "      <td>London</td>\n",
       "      <td>E12000007</td>\n",
       "      <td>Region</td>\n",
       "      <td>2020-06-07</td>\n",
       "      <td>11.0</td>\n",
       "      <td>NaN</td>\n",
       "      <td>NaN</td>\n",
       "      <td>27194</td>\n",
       "      <td>NaN</td>\n",
       "      <td>NaN</td>\n",
       "      <td>305.3</td>\n",
       "    </tr>\n",
       "    <tr>\n",
       "      <th>593</th>\n",
       "      <td>London</td>\n",
       "      <td>E12000007</td>\n",
       "      <td>Region</td>\n",
       "      <td>2020-06-06</td>\n",
       "      <td>13.0</td>\n",
       "      <td>NaN</td>\n",
       "      <td>NaN</td>\n",
       "      <td>27183</td>\n",
       "      <td>NaN</td>\n",
       "      <td>NaN</td>\n",
       "      <td>305.1</td>\n",
       "    </tr>\n",
       "    <tr>\n",
       "      <th>773</th>\n",
       "      <td>London</td>\n",
       "      <td>E12000007</td>\n",
       "      <td>Region</td>\n",
       "      <td>2020-06-05</td>\n",
       "      <td>22.0</td>\n",
       "      <td>NaN</td>\n",
       "      <td>NaN</td>\n",
       "      <td>27170</td>\n",
       "      <td>NaN</td>\n",
       "      <td>NaN</td>\n",
       "      <td>305.0</td>\n",
       "    </tr>\n",
       "    <tr>\n",
       "      <th>1034</th>\n",
       "      <td>London</td>\n",
       "      <td>E12000007</td>\n",
       "      <td>Region</td>\n",
       "      <td>2020-06-04</td>\n",
       "      <td>18.0</td>\n",
       "      <td>NaN</td>\n",
       "      <td>NaN</td>\n",
       "      <td>27148</td>\n",
       "      <td>NaN</td>\n",
       "      <td>NaN</td>\n",
       "      <td>304.8</td>\n",
       "    </tr>\n",
       "  </tbody>\n",
       "</table>\n",
       "</div>"
      ],
      "text/plain": [
       "     Area name  Area code Area type       date  Daily lab-confirmed cases  \\\n",
       "3       London  E12000007    Region 2020-06-08                        0.0   \n",
       "479     London  E12000007    Region 2020-06-07                       11.0   \n",
       "593     London  E12000007    Region 2020-06-06                       13.0   \n",
       "773     London  E12000007    Region 2020-06-05                       22.0   \n",
       "1034    London  E12000007    Region 2020-06-04                       18.0   \n",
       "\n",
       "      Previously reported daily cases  Change in daily cases  \\\n",
       "3                                 NaN                    NaN   \n",
       "479                               NaN                    NaN   \n",
       "593                               NaN                    NaN   \n",
       "773                               NaN                    NaN   \n",
       "1034                              NaN                    NaN   \n",
       "\n",
       "      Cumulative lab-confirmed cases  Previously reported cumulative cases  \\\n",
       "3                              27194                                   NaN   \n",
       "479                            27194                                   NaN   \n",
       "593                            27183                                   NaN   \n",
       "773                            27170                                   NaN   \n",
       "1034                           27148                                   NaN   \n",
       "\n",
       "      Change in cumulative cases  Cumulative lab-confirmed cases rate  \n",
       "3                            NaN                                305.3  \n",
       "479                          NaN                                305.3  \n",
       "593                          NaN                                305.1  \n",
       "773                          NaN                                305.0  \n",
       "1034                         NaN                                304.8  "
      ]
     },
     "execution_count": 139,
     "metadata": {},
     "output_type": "execute_result"
    }
   ],
   "source": [
    "# Import the COVID-19 cases data for London, world and the UK\n",
    "path_new_cases = 'data/New_Cases.csv' # data for world and individual countries\n",
    "path_new_cases_london = 'data/New_Cases_London.csv' # data for London\n",
    "\n",
    "df_new_cases = pd.read_csv(path_new_cases, parse_dates = ['date'], dayfirst=True)\n",
    "df_new_cases_london = pd.read_csv(path_new_cases_london, parse_dates = ['date'], dayfirst=True)\n",
    "new_cases_london = df_new_cases_london[df_new_cases_london['Area name'] == 'London']\n",
    "new_cases_london.head()"
   ]
  },
  {
   "cell_type": "code",
   "execution_count": 140,
   "metadata": {},
   "outputs": [],
   "source": [
    "# Import the new death cases data for England, world and the UK\n",
    "path_uk_regions_death = 'data/Covid_Deaths_UK_Regions.csv' # data for deaths in United Kingdom\n",
    "path_world_death = 'data/Covid_Deaths_Global.csv' # data for deaths in United Kingdom"
   ]
  },
  {
   "cell_type": "code",
   "execution_count": 141,
   "metadata": {},
   "outputs": [
    {
     "data": {
      "text/plain": [
       "Date            False\n",
       "world_deaths    False\n",
       "uk_deaths       False\n",
       "dtype: bool"
      ]
     },
     "execution_count": 141,
     "metadata": {},
     "output_type": "execute_result"
    }
   ],
   "source": [
    "# Read the data for UK regions\n",
    "df_uk_regions_death = pd.read_csv(path_uk_regions_death, dayfirst=True).transpose()\n",
    "# Clean the data for UK regions\n",
    "df_uk_regions_death.drop(df_uk_regions_death.index[0], inplace=True)\n",
    "df_uk_regions_death.columns = df_uk_regions_death.iloc[0]\n",
    "df_uk_regions_death.columns.name = None\n",
    "df_uk_regions_death.drop([df_uk_regions_death.index[0]], inplace=True)\n",
    "df_uk_regions_death.drop([df_uk_regions_death.index[0]], inplace=True)\n",
    "df_uk_regions_death.reset_index(level=0, inplace=True)\n",
    "# Choose London as the region under analysis\n",
    "df_london_death = df_uk_regions_death[['index', 'London']]\n",
    "df_london_death.rename(columns={'index':'Date', 'London':'london_deaths'}, inplace=True)\n",
    "df_london_death['Date'] = df_london_death['Date'][1:-10]\n",
    "df_london_death['Date'] = pd.to_datetime(df_london_death['Date']) # put Date column into datatime format\n",
    "df_london_death.drop(0, inplace=True)\n",
    "df_london_death = df_london_death[df_london_death['Date'].isin(pd.date_range('2020-02-27', '2020-05-29'))]\n",
    "\n",
    "# Check for missing values\n",
    "df_world_death.isna().any()"
   ]
  },
  {
   "cell_type": "code",
   "execution_count": 142,
   "metadata": {},
   "outputs": [
    {
     "data": {
      "text/html": [
       "<div>\n",
       "<style scoped>\n",
       "    .dataframe tbody tr th:only-of-type {\n",
       "        vertical-align: middle;\n",
       "    }\n",
       "\n",
       "    .dataframe tbody tr th {\n",
       "        vertical-align: top;\n",
       "    }\n",
       "\n",
       "    .dataframe thead th {\n",
       "        text-align: right;\n",
       "    }\n",
       "</style>\n",
       "<table border=\"1\" class=\"dataframe\">\n",
       "  <thead>\n",
       "    <tr style=\"text-align: right;\">\n",
       "      <th></th>\n",
       "      <th>Date</th>\n",
       "      <th>london_deaths</th>\n",
       "    </tr>\n",
       "  </thead>\n",
       "  <tbody>\n",
       "    <tr>\n",
       "      <th>1</th>\n",
       "      <td>2020-03-01</td>\n",
       "      <td>0</td>\n",
       "    </tr>\n",
       "    <tr>\n",
       "      <th>2</th>\n",
       "      <td>2020-03-02</td>\n",
       "      <td>0</td>\n",
       "    </tr>\n",
       "    <tr>\n",
       "      <th>3</th>\n",
       "      <td>2020-03-03</td>\n",
       "      <td>0</td>\n",
       "    </tr>\n",
       "    <tr>\n",
       "      <th>4</th>\n",
       "      <td>2020-03-04</td>\n",
       "      <td>0</td>\n",
       "    </tr>\n",
       "    <tr>\n",
       "      <th>5</th>\n",
       "      <td>2020-03-05</td>\n",
       "      <td>0</td>\n",
       "    </tr>\n",
       "  </tbody>\n",
       "</table>\n",
       "</div>"
      ],
      "text/plain": [
       "        Date london_deaths\n",
       "1 2020-03-01             0\n",
       "2 2020-03-02             0\n",
       "3 2020-03-03             0\n",
       "4 2020-03-04             0\n",
       "5 2020-03-05             0"
      ]
     },
     "execution_count": 142,
     "metadata": {},
     "output_type": "execute_result"
    }
   ],
   "source": [
    "# Look at the dataframe\n",
    "df_london_death.head()"
   ]
  },
  {
   "cell_type": "code",
   "execution_count": 143,
   "metadata": {},
   "outputs": [
    {
     "data": {
      "text/plain": [
       "Date            False\n",
       "world_deaths    False\n",
       "uk_deaths       False\n",
       "dtype: bool"
      ]
     },
     "execution_count": 143,
     "metadata": {},
     "output_type": "execute_result"
    }
   ],
   "source": [
    "# Read the data for global deaths\n",
    "df_world_death = pd.read_csv(path_world_death, parse_dates = ['date'], dayfirst=True)\n",
    "# Choose the UK and world as regions analysis\n",
    "df_world_death = df_world_death[['date','World','United Kingdom']]\n",
    "df_world_death.rename(columns={'date':'Date', 'World':'world_deaths','United Kingdom':'uk_deaths'}, inplace=True)\n",
    "df_world_death = df_world_death[df_world_death['Date'].isin(pd.date_range('2020-02-27', '2020-05-29'))]\n",
    "# Check for missing values\n",
    "df_world_death.isna().any()"
   ]
  },
  {
   "cell_type": "code",
   "execution_count": 144,
   "metadata": {},
   "outputs": [
    {
     "data": {
      "text/html": [
       "<div>\n",
       "<style scoped>\n",
       "    .dataframe tbody tr th:only-of-type {\n",
       "        vertical-align: middle;\n",
       "    }\n",
       "\n",
       "    .dataframe tbody tr th {\n",
       "        vertical-align: top;\n",
       "    }\n",
       "\n",
       "    .dataframe thead th {\n",
       "        text-align: right;\n",
       "    }\n",
       "</style>\n",
       "<table border=\"1\" class=\"dataframe\">\n",
       "  <thead>\n",
       "    <tr style=\"text-align: right;\">\n",
       "      <th></th>\n",
       "      <th>Date</th>\n",
       "      <th>world_deaths</th>\n",
       "      <th>uk_deaths</th>\n",
       "    </tr>\n",
       "  </thead>\n",
       "  <tbody>\n",
       "    <tr>\n",
       "      <th>58</th>\n",
       "      <td>2020-02-27</td>\n",
       "      <td>38</td>\n",
       "      <td>0</td>\n",
       "    </tr>\n",
       "    <tr>\n",
       "      <th>59</th>\n",
       "      <td>2020-02-28</td>\n",
       "      <td>57</td>\n",
       "      <td>0</td>\n",
       "    </tr>\n",
       "    <tr>\n",
       "      <th>60</th>\n",
       "      <td>2020-02-29</td>\n",
       "      <td>62</td>\n",
       "      <td>0</td>\n",
       "    </tr>\n",
       "    <tr>\n",
       "      <th>61</th>\n",
       "      <td>2020-03-01</td>\n",
       "      <td>58</td>\n",
       "      <td>0</td>\n",
       "    </tr>\n",
       "    <tr>\n",
       "      <th>62</th>\n",
       "      <td>2020-03-02</td>\n",
       "      <td>67</td>\n",
       "      <td>0</td>\n",
       "    </tr>\n",
       "  </tbody>\n",
       "</table>\n",
       "</div>"
      ],
      "text/plain": [
       "         Date  world_deaths  uk_deaths\n",
       "58 2020-02-27            38          0\n",
       "59 2020-02-28            57          0\n",
       "60 2020-02-29            62          0\n",
       "61 2020-03-01            58          0\n",
       "62 2020-03-02            67          0"
      ]
     },
     "execution_count": 144,
     "metadata": {},
     "output_type": "execute_result"
    }
   ],
   "source": [
    "# Look at the dataframe\n",
    "df_world_death.head()"
   ]
  },
  {
   "cell_type": "code",
   "execution_count": 145,
   "metadata": {},
   "outputs": [
    {
     "data": {
      "text/html": [
       "<div>\n",
       "<style scoped>\n",
       "    .dataframe tbody tr th:only-of-type {\n",
       "        vertical-align: middle;\n",
       "    }\n",
       "\n",
       "    .dataframe tbody tr th {\n",
       "        vertical-align: top;\n",
       "    }\n",
       "\n",
       "    .dataframe thead th {\n",
       "        text-align: right;\n",
       "    }\n",
       "</style>\n",
       "<table border=\"1\" class=\"dataframe\">\n",
       "  <thead>\n",
       "    <tr style=\"text-align: right;\">\n",
       "      <th></th>\n",
       "      <th>Date</th>\n",
       "      <th>new_cases_uk</th>\n",
       "      <th>new_cases_world</th>\n",
       "    </tr>\n",
       "  </thead>\n",
       "  <tbody>\n",
       "    <tr>\n",
       "      <th>58</th>\n",
       "      <td>2020-02-27</td>\n",
       "      <td>0</td>\n",
       "      <td>1109</td>\n",
       "    </tr>\n",
       "    <tr>\n",
       "      <th>59</th>\n",
       "      <td>2020-02-28</td>\n",
       "      <td>3</td>\n",
       "      <td>1269</td>\n",
       "    </tr>\n",
       "    <tr>\n",
       "      <th>60</th>\n",
       "      <td>2020-02-29</td>\n",
       "      <td>2</td>\n",
       "      <td>1848</td>\n",
       "    </tr>\n",
       "    <tr>\n",
       "      <th>61</th>\n",
       "      <td>2020-03-01</td>\n",
       "      <td>5</td>\n",
       "      <td>1819</td>\n",
       "    </tr>\n",
       "    <tr>\n",
       "      <th>62</th>\n",
       "      <td>2020-03-02</td>\n",
       "      <td>13</td>\n",
       "      <td>2079</td>\n",
       "    </tr>\n",
       "  </tbody>\n",
       "</table>\n",
       "</div>"
      ],
      "text/plain": [
       "         Date  new_cases_uk  new_cases_world\n",
       "58 2020-02-27             0             1109\n",
       "59 2020-02-28             3             1269\n",
       "60 2020-02-29             2             1848\n",
       "61 2020-03-01             5             1819\n",
       "62 2020-03-02            13             2079"
      ]
     },
     "execution_count": 145,
     "metadata": {},
     "output_type": "execute_result"
    }
   ],
   "source": [
    "# clean the data for the UK and whole world\n",
    "# choose the dates under analysis\n",
    "new_cases_world_uk = df_new_cases[['date', 'United Kingdom', 'World']]\n",
    "new_cases_world_uk.rename(columns={'date':'Date', 'United Kingdom': 'new_cases_uk', 'World': 'new_cases_world'}, inplace=True)\n",
    "new_cases_world_uk = new_cases_world_uk[new_cases_world_uk['Date'].isin(pd.date_range('2020-02-27', '2020-05-29'))]\n",
    "new_cases_world_uk.head()"
   ]
  },
  {
   "cell_type": "code",
   "execution_count": 146,
   "metadata": {},
   "outputs": [
    {
     "data": {
      "text/html": [
       "<div>\n",
       "<style scoped>\n",
       "    .dataframe tbody tr th:only-of-type {\n",
       "        vertical-align: middle;\n",
       "    }\n",
       "\n",
       "    .dataframe tbody tr th {\n",
       "        vertical-align: top;\n",
       "    }\n",
       "\n",
       "    .dataframe thead th {\n",
       "        text-align: right;\n",
       "    }\n",
       "</style>\n",
       "<table border=\"1\" class=\"dataframe\">\n",
       "  <thead>\n",
       "    <tr style=\"text-align: right;\">\n",
       "      <th></th>\n",
       "      <th>Date</th>\n",
       "      <th>new_cases_london</th>\n",
       "    </tr>\n",
       "  </thead>\n",
       "  <tbody>\n",
       "    <tr>\n",
       "      <th>35807</th>\n",
       "      <td>2020-02-27</td>\n",
       "      <td>1</td>\n",
       "    </tr>\n",
       "    <tr>\n",
       "      <th>35778</th>\n",
       "      <td>2020-02-28</td>\n",
       "      <td>5</td>\n",
       "    </tr>\n",
       "    <tr>\n",
       "      <th>35767</th>\n",
       "      <td>2020-02-29</td>\n",
       "      <td>1</td>\n",
       "    </tr>\n",
       "    <tr>\n",
       "      <th>35709</th>\n",
       "      <td>2020-03-01</td>\n",
       "      <td>8</td>\n",
       "    </tr>\n",
       "    <tr>\n",
       "      <th>35649</th>\n",
       "      <td>2020-03-02</td>\n",
       "      <td>12</td>\n",
       "    </tr>\n",
       "  </tbody>\n",
       "</table>\n",
       "</div>"
      ],
      "text/plain": [
       "            Date  new_cases_london\n",
       "35807 2020-02-27                 1\n",
       "35778 2020-02-28                 5\n",
       "35767 2020-02-29                 1\n",
       "35709 2020-03-01                 8\n",
       "35649 2020-03-02                12"
      ]
     },
     "execution_count": 146,
     "metadata": {},
     "output_type": "execute_result"
    }
   ],
   "source": [
    "# prepare the new cases data for London\n",
    "# choose the London region and the dates under analysis\n",
    "new_cases_london = new_cases_london[['date','Cumulative lab-confirmed cases']]\n",
    "new_cases_london.rename(columns={'date':'Date', 'Cumulative lab-confirmed cases': 'new_cases_london'}, inplace=True)\n",
    "new_cases_london.sort_values(by='Date', inplace=True)\n",
    "\n",
    "# by the total count of cases, calculate the daily number of cases in 10s (for easy plotting)\n",
    "new_cases_l = [0]\n",
    "for n in range(1, len(new_cases_london)):\n",
    "    current = new_cases_london['new_cases_london'].tolist()[n]\n",
    "    previous = new_cases_london['new_cases_london'].tolist()[n-1]\n",
    "    new_cases_l.append(current-previous)\n",
    "new_cases_london['new_cases_london'] = new_cases_l\n",
    "new_cases_london = new_cases_london[new_cases_london['Date'].isin(pd.date_range('2020-02-27', '2020-05-29'))]\n",
    "new_cases_london.head()\n"
   ]
  },
  {
   "cell_type": "code",
   "execution_count": 173,
   "metadata": {},
   "outputs": [
    {
     "data": {
      "text/plain": [
       "Date                                                  False\n",
       "new_cases_london                                      False\n",
       "new_cases_uk                                          False\n",
       "new_cases_world                                       False\n",
       "london_deaths                                          True\n",
       "world_deaths                                          False\n",
       "uk_deaths                                             False\n",
       "retail_and_recreation_percent_change_from_baseline    False\n",
       "transit_stations_percent_change_from_baseline         False\n",
       "Tfl Tube use change percentage                        False\n",
       "National rail use change percentage                   False\n",
       "dtype: bool"
      ]
     },
     "execution_count": 173,
     "metadata": {},
     "output_type": "execute_result"
    }
   ],
   "source": [
    "# merge the UK mobility and transport with new infection and death cases\n",
    "df_cases_mobility = pd.merge(new_cases_london, new_cases_world_uk, how='left', on='Date')\n",
    "df_cases_mobility = pd.merge(df_cases_mobility, df_london_death, how='left', on='Date')\n",
    "df_cases_mobility = pd.merge(df_cases_mobility, df_world_death, how='left', on='Date')\n",
    "df_cases_mobility = pd.merge(df_cases_mobility, df_london_merged, how='left', on='Date')\n",
    "\n",
    "# check for missing values\n",
    "df_cases_mobility.isna().any()"
   ]
  },
  {
   "cell_type": "markdown",
   "metadata": {},
   "source": [
    "We can observe missing values in the column `london_deaths` since the case registration for London started on March, 1. (There is no data for Feb 27-29). On Feb 27-29, no COVID death cases have yet been registered, so we can just fill the value with zero."
   ]
  },
  {
   "cell_type": "code",
   "execution_count": 174,
   "metadata": {},
   "outputs": [
    {
     "data": {
      "text/plain": [
       "Date                                                  False\n",
       "new_cases_london                                      False\n",
       "new_cases_uk                                          False\n",
       "new_cases_world                                       False\n",
       "london_deaths                                         False\n",
       "world_deaths                                          False\n",
       "uk_deaths                                             False\n",
       "retail_and_recreation_percent_change_from_baseline    False\n",
       "transit_stations_percent_change_from_baseline         False\n",
       "Tfl Tube use change percentage                        False\n",
       "National rail use change percentage                   False\n",
       "dtype: bool"
      ]
     },
     "execution_count": 174,
     "metadata": {},
     "output_type": "execute_result"
    }
   ],
   "source": [
    "df_cases_mobility.fillna(value=0, inplace=True)\n",
    "\n",
    "# check for missing values again\n",
    "df_cases_mobility.isna().any()"
   ]
  },
  {
   "cell_type": "code",
   "execution_count": 175,
   "metadata": {},
   "outputs": [
    {
     "data": {
      "image/png": "[encoded data removed]",
      "text/plain": [
       "<Figure size 432x288 with 2 Axes>"
      ]
     },
     "metadata": {
      "needs_background": "light"
     },
     "output_type": "display_data"
    }
   ],
   "source": [
    "# look at the correlation of all variables\n",
    "mobility_cases_corr = df_cases_mobility.corr()\n",
    "sns.heatmap(mobility_cases_corr, annot=True, cmap=plt.cm.Reds)\n",
    "plt.show()"
   ]
  },
  {
   "cell_type": "markdown",
   "metadata": {},
   "source": [
    "We can see that some infection variables have a very strong correlation with TfL Tube Use and National Rail Use"
   ]
  },
  {
   "cell_type": "code",
   "execution_count": 177,
   "metadata": {
    "scrolled": true
   },
   "outputs": [
    {
     "data": {
      "text/html": [
       "<div>\n",
       "<style scoped>\n",
       "    .dataframe tbody tr th:only-of-type {\n",
       "        vertical-align: middle;\n",
       "    }\n",
       "\n",
       "    .dataframe tbody tr th {\n",
       "        vertical-align: top;\n",
       "    }\n",
       "\n",
       "    .dataframe thead th {\n",
       "        text-align: right;\n",
       "    }\n",
       "</style>\n",
       "<table border=\"1\" class=\"dataframe\">\n",
       "  <thead>\n",
       "    <tr style=\"text-align: right;\">\n",
       "      <th></th>\n",
       "      <th>Tfl Tube use change percentage</th>\n",
       "      <th>National rail use change percentage</th>\n",
       "    </tr>\n",
       "  </thead>\n",
       "  <tbody>\n",
       "    <tr>\n",
       "      <th>new_cases_london</th>\n",
       "      <td>0.398572</td>\n",
       "      <td>0.349810</td>\n",
       "    </tr>\n",
       "    <tr>\n",
       "      <th>new_cases_uk</th>\n",
       "      <td>0.742857</td>\n",
       "      <td>0.794125</td>\n",
       "    </tr>\n",
       "    <tr>\n",
       "      <th>new_cases_world</th>\n",
       "      <td>0.877642</td>\n",
       "      <td>0.927698</td>\n",
       "    </tr>\n",
       "    <tr>\n",
       "      <th>london_deaths</th>\n",
       "      <td>0.484323</td>\n",
       "      <td>0.481486</td>\n",
       "    </tr>\n",
       "    <tr>\n",
       "      <th>world_deaths</th>\n",
       "      <td>0.783536</td>\n",
       "      <td>0.834590</td>\n",
       "    </tr>\n",
       "    <tr>\n",
       "      <th>uk_deaths</th>\n",
       "      <td>0.634489</td>\n",
       "      <td>0.684887</td>\n",
       "    </tr>\n",
       "    <tr>\n",
       "      <th>retail_and_recreation_percent_change_from_baseline</th>\n",
       "      <td>0.983282</td>\n",
       "      <td>0.986000</td>\n",
       "    </tr>\n",
       "    <tr>\n",
       "      <th>transit_stations_percent_change_from_baseline</th>\n",
       "      <td>0.988100</td>\n",
       "      <td>0.983194</td>\n",
       "    </tr>\n",
       "    <tr>\n",
       "      <th>Tfl Tube use change percentage</th>\n",
       "      <td>1.000000</td>\n",
       "      <td>0.977191</td>\n",
       "    </tr>\n",
       "    <tr>\n",
       "      <th>National rail use change percentage</th>\n",
       "      <td>0.977191</td>\n",
       "      <td>1.000000</td>\n",
       "    </tr>\n",
       "  </tbody>\n",
       "</table>\n",
       "</div>"
      ],
      "text/plain": [
       "                                                    Tfl Tube use change percentage  \\\n",
       "new_cases_london                                                          0.398572   \n",
       "new_cases_uk                                                              0.742857   \n",
       "new_cases_world                                                           0.877642   \n",
       "london_deaths                                                             0.484323   \n",
       "world_deaths                                                              0.783536   \n",
       "uk_deaths                                                                 0.634489   \n",
       "retail_and_recreation_percent_change_from_baseline                        0.983282   \n",
       "transit_stations_percent_change_from_baseline                             0.988100   \n",
       "Tfl Tube use change percentage                                            1.000000   \n",
       "National rail use change percentage                                       0.977191   \n",
       "\n",
       "                                                    National rail use change percentage  \n",
       "new_cases_london                                                               0.349810  \n",
       "new_cases_uk                                                                   0.794125  \n",
       "new_cases_world                                                                0.927698  \n",
       "london_deaths                                                                  0.481486  \n",
       "world_deaths                                                                   0.834590  \n",
       "uk_deaths                                                                      0.684887  \n",
       "retail_and_recreation_percent_change_from_baseline                             0.986000  \n",
       "transit_stations_percent_change_from_baseline                                  0.983194  \n",
       "Tfl Tube use change percentage                                                 0.977191  \n",
       "National rail use change percentage                                            1.000000  "
      ]
     },
     "execution_count": 177,
     "metadata": {},
     "output_type": "execute_result"
    }
   ],
   "source": [
    "# Correlation of COVID cases with TfL Tube and National Rail\n",
    "cor_cases_tube = abs(mobility_cases_corr[[\"Tfl Tube use change percentage\", \"National rail use change percentage\"]])\n",
    "cor_cases_tube"
   ]
  },
  {
   "cell_type": "markdown",
   "metadata": {},
   "source": [
    "Check the correlation of new cases with `retail_and_recreation` and `transit_stations` to see if it is more efficient to predict them than transport use directly"
   ]
  },
  {
   "cell_type": "code",
   "execution_count": 166,
   "metadata": {},
   "outputs": [
    {
     "data": {
      "text/html": [
       "<div>\n",
       "<style scoped>\n",
       "    .dataframe tbody tr th:only-of-type {\n",
       "        vertical-align: middle;\n",
       "    }\n",
       "\n",
       "    .dataframe tbody tr th {\n",
       "        vertical-align: top;\n",
       "    }\n",
       "\n",
       "    .dataframe thead th {\n",
       "        text-align: right;\n",
       "    }\n",
       "</style>\n",
       "<table border=\"1\" class=\"dataframe\">\n",
       "  <thead>\n",
       "    <tr style=\"text-align: right;\">\n",
       "      <th></th>\n",
       "      <th>retail_and_recreation_percent_change_from_baseline</th>\n",
       "      <th>transit_stations_percent_change_from_baseline</th>\n",
       "    </tr>\n",
       "  </thead>\n",
       "  <tbody>\n",
       "    <tr>\n",
       "      <th>retail_and_recreation_percent_change_from_baseline</th>\n",
       "      <td>1.000000</td>\n",
       "      <td>0.991170</td>\n",
       "    </tr>\n",
       "    <tr>\n",
       "      <th>transit_stations_percent_change_from_baseline</th>\n",
       "      <td>0.991170</td>\n",
       "      <td>1.000000</td>\n",
       "    </tr>\n",
       "    <tr>\n",
       "      <th>National rail use change percentage</th>\n",
       "      <td>0.986000</td>\n",
       "      <td>0.983194</td>\n",
       "    </tr>\n",
       "    <tr>\n",
       "      <th>Tfl Tube use change percentage</th>\n",
       "      <td>0.983282</td>\n",
       "      <td>0.988100</td>\n",
       "    </tr>\n",
       "    <tr>\n",
       "      <th>new_cases_world</th>\n",
       "      <td>0.890155</td>\n",
       "      <td>0.866504</td>\n",
       "    </tr>\n",
       "    <tr>\n",
       "      <th>world_deaths</th>\n",
       "      <td>0.826518</td>\n",
       "      <td>0.814900</td>\n",
       "    </tr>\n",
       "    <tr>\n",
       "      <th>new_cases_uk</th>\n",
       "      <td>0.795168</td>\n",
       "      <td>0.777202</td>\n",
       "    </tr>\n",
       "    <tr>\n",
       "      <th>uk_deaths</th>\n",
       "      <td>0.693546</td>\n",
       "      <td>0.679299</td>\n",
       "    </tr>\n",
       "    <tr>\n",
       "      <th>london_deaths</th>\n",
       "      <td>0.540863</td>\n",
       "      <td>0.562729</td>\n",
       "    </tr>\n",
       "    <tr>\n",
       "      <th>new_cases_london</th>\n",
       "      <td>0.417974</td>\n",
       "      <td>0.463362</td>\n",
       "    </tr>\n",
       "  </tbody>\n",
       "</table>\n",
       "</div>"
      ],
      "text/plain": [
       "                                                    retail_and_recreation_percent_change_from_baseline  \\\n",
       "retail_and_recreation_percent_change_from_baseline                                            1.000000   \n",
       "transit_stations_percent_change_from_baseline                                                 0.991170   \n",
       "National rail use change percentage                                                           0.986000   \n",
       "Tfl Tube use change percentage                                                                0.983282   \n",
       "new_cases_world                                                                               0.890155   \n",
       "world_deaths                                                                                  0.826518   \n",
       "new_cases_uk                                                                                  0.795168   \n",
       "uk_deaths                                                                                     0.693546   \n",
       "london_deaths                                                                                 0.540863   \n",
       "new_cases_london                                                                              0.417974   \n",
       "\n",
       "                                                    transit_stations_percent_change_from_baseline  \n",
       "retail_and_recreation_percent_change_from_baseline                                       0.991170  \n",
       "transit_stations_percent_change_from_baseline                                            1.000000  \n",
       "National rail use change percentage                                                      0.983194  \n",
       "Tfl Tube use change percentage                                                           0.988100  \n",
       "new_cases_world                                                                          0.866504  \n",
       "world_deaths                                                                             0.814900  \n",
       "new_cases_uk                                                                             0.777202  \n",
       "uk_deaths                                                                                0.679299  \n",
       "london_deaths                                                                            0.562729  \n",
       "new_cases_london                                                                         0.463362  "
      ]
     },
     "execution_count": 166,
     "metadata": {},
     "output_type": "execute_result"
    }
   ],
   "source": [
    "#Correlation of COVID cases with retail_and_recreation and transit_stations\n",
    "cor_cases_retail_transit = abs(mobility_cases_corr[[\"retail_and_recreation_percent_change_from_baseline\", \"transit_stations_percent_change_from_baseline\"]])\n",
    "cor_cases_retail_transit.sort_values([\"retail_and_recreation_percent_change_from_baseline\", \"transit_stations_percent_change_from_baseline\"], ascending=[0, 1])"
   ]
  },
  {
   "cell_type": "markdown",
   "metadata": {},
   "source": [
    "It is now clear that the direct correlation of `new_cases_world` and `world_deaths` with transport use is stronger, which means they can potentially be used to predict transport use directly."
   ]
  },
  {
   "cell_type": "markdown",
   "metadata": {},
   "source": [
    "## Multicollinearity\n",
    "Check out the correlation structure between the predictor variables against multicollinearity."
   ]
  },
  {
   "cell_type": "code",
   "execution_count": 183,
   "metadata": {},
   "outputs": [
    {
     "data": {
      "text/plain": [
       "new_cases_world    1.000000\n",
       "world_deaths       0.835144\n",
       "Name: new_cases_world, dtype: float64"
      ]
     },
     "execution_count": 183,
     "metadata": {},
     "output_type": "execute_result"
    }
   ],
   "source": [
    "# Choose the relevant variables\n",
    "rel_cases_variables = df_cases_mobility[['new_cases_world', 'world_deaths']]\n",
    "# look at the correlation coefficients of variables left\n",
    "cases_variables_corr = rel_cases_variables.corr()\n",
    "abs(cases_variables_corr['new_cases_world'])"
   ]
  },
  {
   "cell_type": "markdown",
   "metadata": {},
   "source": [
    "The variables appear highly correlated (and their correlation is higher than that with transport use), so we can drop `new_cases_world` which appears to be more relevant to both transport use variables."
   ]
  },
  {
   "cell_type": "code",
   "execution_count": 129,
   "metadata": {},
   "outputs": [
    {
     "data": {
      "text/plain": [
       "new_cases_london                                      1.000000\n",
       "new_cases_uk                                          0.242351\n",
       "new_cases_world                                       0.094919\n",
       "retail_and_recreation_percent_change_from_baseline    0.417974\n",
       "transit_stations_percent_change_from_baseline         0.463362\n",
       "Tfl Tube use change percentage                        0.398572\n",
       "National rail use change percentage                   0.349810\n",
       "Name: new_cases_london, dtype: float64"
      ]
     },
     "execution_count": 129,
     "metadata": {},
     "output_type": "execute_result"
    }
   ],
   "source": [
    "# look at the correlation with New Cases in London\n",
    "cor_london = abs(mobility_corr[\"new_cases_london\"])\n",
    "cor_london"
   ]
  },
  {
   "cell_type": "markdown",
   "metadata": {},
   "source": [
    "#### It can be observed that New daily cases in the whole world have much stronger correlation with both mobility and transport, so we can just drop other variables."
   ]
  },
  {
   "cell_type": "code",
   "execution_count": 130,
   "metadata": {},
   "outputs": [
    {
     "data": {
      "text/html": [
       "<div>\n",
       "<style scoped>\n",
       "    .dataframe tbody tr th:only-of-type {\n",
       "        vertical-align: middle;\n",
       "    }\n",
       "\n",
       "    .dataframe tbody tr th {\n",
       "        vertical-align: top;\n",
       "    }\n",
       "\n",
       "    .dataframe thead th {\n",
       "        text-align: right;\n",
       "    }\n",
       "</style>\n",
       "<table border=\"1\" class=\"dataframe\">\n",
       "  <thead>\n",
       "    <tr style=\"text-align: right;\">\n",
       "      <th></th>\n",
       "      <th>Date</th>\n",
       "      <th>new_cases_world</th>\n",
       "      <th>London</th>\n",
       "      <th>retail_and_recreation_percent_change_from_baseline</th>\n",
       "      <th>transit_stations_percent_change_from_baseline</th>\n",
       "      <th>Tfl Tube use change percentage</th>\n",
       "      <th>National rail use change percentage</th>\n",
       "    </tr>\n",
       "  </thead>\n",
       "  <tbody>\n",
       "    <tr>\n",
       "      <th>0</th>\n",
       "      <td>2020-02-27</td>\n",
       "      <td>1109</td>\n",
       "      <td>NaN</td>\n",
       "      <td>0.0</td>\n",
       "      <td>-1.0</td>\n",
       "      <td>-1</td>\n",
       "      <td>-3</td>\n",
       "    </tr>\n",
       "    <tr>\n",
       "      <th>1</th>\n",
       "      <td>2020-02-28</td>\n",
       "      <td>1269</td>\n",
       "      <td>NaN</td>\n",
       "      <td>-2.0</td>\n",
       "      <td>-2.0</td>\n",
       "      <td>-3</td>\n",
       "      <td>-7</td>\n",
       "    </tr>\n",
       "    <tr>\n",
       "      <th>2</th>\n",
       "      <td>2020-02-29</td>\n",
       "      <td>1848</td>\n",
       "      <td>NaN</td>\n",
       "      <td>-2.0</td>\n",
       "      <td>-5.0</td>\n",
       "      <td>-7</td>\n",
       "      <td>-7</td>\n",
       "    </tr>\n",
       "    <tr>\n",
       "      <th>3</th>\n",
       "      <td>2020-03-01</td>\n",
       "      <td>1819</td>\n",
       "      <td>0</td>\n",
       "      <td>9.0</td>\n",
       "      <td>5.0</td>\n",
       "      <td>4</td>\n",
       "      <td>-7</td>\n",
       "    </tr>\n",
       "    <tr>\n",
       "      <th>4</th>\n",
       "      <td>2020-03-02</td>\n",
       "      <td>2079</td>\n",
       "      <td>0</td>\n",
       "      <td>2.0</td>\n",
       "      <td>-3.0</td>\n",
       "      <td>-5</td>\n",
       "      <td>-9</td>\n",
       "    </tr>\n",
       "  </tbody>\n",
       "</table>\n",
       "</div>"
      ],
      "text/plain": [
       "        Date  new_cases_world London  \\\n",
       "0 2020-02-27             1109    NaN   \n",
       "1 2020-02-28             1269    NaN   \n",
       "2 2020-02-29             1848    NaN   \n",
       "3 2020-03-01             1819      0   \n",
       "4 2020-03-02             2079      0   \n",
       "\n",
       "   retail_and_recreation_percent_change_from_baseline  \\\n",
       "0                                                 0.0   \n",
       "1                                                -2.0   \n",
       "2                                                -2.0   \n",
       "3                                                 9.0   \n",
       "4                                                 2.0   \n",
       "\n",
       "   transit_stations_percent_change_from_baseline  \\\n",
       "0                                           -1.0   \n",
       "1                                           -2.0   \n",
       "2                                           -5.0   \n",
       "3                                            5.0   \n",
       "4                                           -3.0   \n",
       "\n",
       "   Tfl Tube use change percentage  National rail use change percentage  \n",
       "0                              -1                                   -3  \n",
       "1                              -3                                   -7  \n",
       "2                              -7                                   -7  \n",
       "3                               4                                   -7  \n",
       "4                              -5                                   -9  "
      ]
     },
     "execution_count": 130,
     "metadata": {},
     "output_type": "execute_result"
    }
   ],
   "source": [
    "df_cases_mobility.drop(columns=['new_cases_london', 'new_cases_uk'], inplace=True)\n",
    "df_cases_mobility.head()"
   ]
  },
  {
   "cell_type": "code",
   "execution_count": 131,
   "metadata": {},
   "outputs": [],
   "source": [
    "# for easier plotting, divide the number of new cases in the world by 1000\n"
   ]
  },
  {
   "cell_type": "code",
   "execution_count": 132,
   "metadata": {
    "scrolled": false
   },
   "outputs": [
    {
     "ename": "KeyError",
     "evalue": "'plot_new_cases_world'",
     "output_type": "error",
     "traceback": [
      "\u001b[0;31m---------------------------------------------------------------------------\u001b[0m",
      "\u001b[0;31mKeyError\u001b[0m                                  Traceback (most recent call last)",
      "\u001b[0;32m/home/iuliia/snap/jupyter/common/lib/python3.7/site-packages/pandas/core/indexes/base.py\u001b[0m in \u001b[0;36mget_loc\u001b[0;34m(self, key, method, tolerance)\u001b[0m\n\u001b[1;32m   2896\u001b[0m             \u001b[0;32mtry\u001b[0m\u001b[0;34m:\u001b[0m\u001b[0;34m\u001b[0m\u001b[0;34m\u001b[0m\u001b[0m\n\u001b[0;32m-> 2897\u001b[0;31m                 \u001b[0;32mreturn\u001b[0m \u001b[0mself\u001b[0m\u001b[0;34m.\u001b[0m\u001b[0m_engine\u001b[0m\u001b[0;34m.\u001b[0m\u001b[0mget_loc\u001b[0m\u001b[0;34m(\u001b[0m\u001b[0mkey\u001b[0m\u001b[0;34m)\u001b[0m\u001b[0;34m\u001b[0m\u001b[0;34m\u001b[0m\u001b[0m\n\u001b[0m\u001b[1;32m   2898\u001b[0m             \u001b[0;32mexcept\u001b[0m \u001b[0mKeyError\u001b[0m\u001b[0;34m:\u001b[0m\u001b[0;34m\u001b[0m\u001b[0;34m\u001b[0m\u001b[0m\n",
      "\u001b[0;32mpandas/_libs/index.pyx\u001b[0m in \u001b[0;36mpandas._libs.index.IndexEngine.get_loc\u001b[0;34m()\u001b[0m\n",
      "\u001b[0;32mpandas/_libs/index.pyx\u001b[0m in \u001b[0;36mpandas._libs.index.IndexEngine.get_loc\u001b[0;34m()\u001b[0m\n",
      "\u001b[0;32mpandas/_libs/hashtable_class_helper.pxi\u001b[0m in \u001b[0;36mpandas._libs.hashtable.PyObjectHashTable.get_item\u001b[0;34m()\u001b[0m\n",
      "\u001b[0;32mpandas/_libs/hashtable_class_helper.pxi\u001b[0m in \u001b[0;36mpandas._libs.hashtable.PyObjectHashTable.get_item\u001b[0;34m()\u001b[0m\n",
      "\u001b[0;31mKeyError\u001b[0m: 'plot_new_cases_world'",
      "\nDuring handling of the above exception, another exception occurred:\n",
      "\u001b[0;31mKeyError\u001b[0m                                  Traceback (most recent call last)",
      "\u001b[0;32m<ipython-input-132-07a7774ddb97>\u001b[0m in \u001b[0;36m<module>\u001b[0;34m\u001b[0m\n\u001b[1;32m      2\u001b[0m \u001b[0mfig\u001b[0m \u001b[0;34m=\u001b[0m \u001b[0mdf_cases_mobility\u001b[0m\u001b[0;34m.\u001b[0m\u001b[0mplot\u001b[0m\u001b[0;34m(\u001b[0m\u001b[0mfigsize\u001b[0m \u001b[0;34m=\u001b[0m \u001b[0;34m(\u001b[0m\u001b[0;36m13\u001b[0m\u001b[0;34m,\u001b[0m \u001b[0;36m8\u001b[0m\u001b[0;34m)\u001b[0m\u001b[0;34m,\u001b[0m \u001b[0mx\u001b[0m\u001b[0;34m=\u001b[0m\u001b[0;34m'Date'\u001b[0m\u001b[0;34m,\u001b[0m \u001b[0my\u001b[0m\u001b[0;34m=\u001b[0m\u001b[0;34m'Tfl Tube use change percentage'\u001b[0m\u001b[0;34m,\u001b[0m \u001b[0mlabel\u001b[0m \u001b[0;34m=\u001b[0m \u001b[0;34m'Tfl Tube use change percentage from the Baseline'\u001b[0m\u001b[0;34m,\u001b[0m \u001b[0mmarker\u001b[0m \u001b[0;34m=\u001b[0m \u001b[0;34m'o'\u001b[0m\u001b[0;34m)\u001b[0m\u001b[0;34m\u001b[0m\u001b[0;34m\u001b[0m\u001b[0m\n\u001b[1;32m      3\u001b[0m \u001b[0mdf_cases_mobility\u001b[0m\u001b[0;34m.\u001b[0m\u001b[0mplot\u001b[0m\u001b[0;34m(\u001b[0m\u001b[0mx\u001b[0m\u001b[0;34m=\u001b[0m\u001b[0;34m'Date'\u001b[0m\u001b[0;34m,\u001b[0m \u001b[0my\u001b[0m\u001b[0;34m=\u001b[0m\u001b[0;34m'National rail use change percentage'\u001b[0m\u001b[0;34m,\u001b[0m \u001b[0mlabel\u001b[0m \u001b[0;34m=\u001b[0m \u001b[0;34m'National rail use change percentage'\u001b[0m\u001b[0;34m,\u001b[0m \u001b[0max\u001b[0m\u001b[0;34m=\u001b[0m\u001b[0mfig\u001b[0m\u001b[0;34m,\u001b[0m \u001b[0mmarker\u001b[0m \u001b[0;34m=\u001b[0m \u001b[0;34m'o'\u001b[0m\u001b[0;34m)\u001b[0m\u001b[0;34m\u001b[0m\u001b[0;34m\u001b[0m\u001b[0m\n\u001b[0;32m----> 4\u001b[0;31m \u001b[0mdf_cases_mobility\u001b[0m\u001b[0;34m.\u001b[0m\u001b[0mplot\u001b[0m\u001b[0;34m(\u001b[0m\u001b[0mx\u001b[0m\u001b[0;34m=\u001b[0m\u001b[0;34m'Date'\u001b[0m\u001b[0;34m,\u001b[0m \u001b[0my\u001b[0m\u001b[0;34m=\u001b[0m\u001b[0;34m'plot_new_cases_world'\u001b[0m\u001b[0;34m,\u001b[0m \u001b[0mlabel\u001b[0m \u001b[0;34m=\u001b[0m \u001b[0;34m'New Cases in the world in 1000s'\u001b[0m\u001b[0;34m,\u001b[0m \u001b[0max\u001b[0m\u001b[0;34m=\u001b[0m\u001b[0mfig\u001b[0m\u001b[0;34m,\u001b[0m \u001b[0mmarker\u001b[0m \u001b[0;34m=\u001b[0m \u001b[0;34m'o'\u001b[0m\u001b[0;34m,\u001b[0m \u001b[0mcolor\u001b[0m\u001b[0;34m=\u001b[0m\u001b[0;34m'red'\u001b[0m\u001b[0;34m)\u001b[0m\u001b[0;34m\u001b[0m\u001b[0;34m\u001b[0m\u001b[0m\n\u001b[0m\u001b[1;32m      5\u001b[0m \u001b[0mfig\u001b[0m\u001b[0;34m.\u001b[0m\u001b[0maxvline\u001b[0m\u001b[0;34m(\u001b[0m\u001b[0mx\u001b[0m\u001b[0;34m=\u001b[0m\u001b[0;34m'2020-03-23'\u001b[0m\u001b[0;34m,\u001b[0m \u001b[0mcolor\u001b[0m\u001b[0;34m=\u001b[0m\u001b[0;34m'gray'\u001b[0m\u001b[0;34m,\u001b[0m \u001b[0mlinestyle\u001b[0m\u001b[0;34m=\u001b[0m\u001b[0;34m'--'\u001b[0m\u001b[0;34m,\u001b[0m \u001b[0mlabel\u001b[0m \u001b[0;34m=\u001b[0m \u001b[0;34m'Lockdown introduction'\u001b[0m\u001b[0;34m)\u001b[0m\u001b[0;34m\u001b[0m\u001b[0;34m\u001b[0m\u001b[0m\n\u001b[1;32m      6\u001b[0m \u001b[0mfig\u001b[0m\u001b[0;34m.\u001b[0m\u001b[0mset_ylabel\u001b[0m\u001b[0;34m(\u001b[0m\u001b[0;34m'Change from the baseline in percent'\u001b[0m\u001b[0;34m)\u001b[0m\u001b[0;34m\u001b[0m\u001b[0;34m\u001b[0m\u001b[0m\n",
      "\u001b[0;32m/home/iuliia/snap/jupyter/common/lib/python3.7/site-packages/pandas/plotting/_core.py\u001b[0m in \u001b[0;36m__call__\u001b[0;34m(self, *args, **kwargs)\u001b[0m\n\u001b[1;32m    778\u001b[0m \u001b[0;34m\u001b[0m\u001b[0m\n\u001b[1;32m    779\u001b[0m                 \u001b[0;31m# don't overwrite\u001b[0m\u001b[0;34m\u001b[0m\u001b[0;34m\u001b[0m\u001b[0;34m\u001b[0m\u001b[0m\n\u001b[0;32m--> 780\u001b[0;31m                 \u001b[0mdata\u001b[0m \u001b[0;34m=\u001b[0m \u001b[0mdata\u001b[0m\u001b[0;34m[\u001b[0m\u001b[0my\u001b[0m\u001b[0;34m]\u001b[0m\u001b[0;34m.\u001b[0m\u001b[0mcopy\u001b[0m\u001b[0;34m(\u001b[0m\u001b[0;34m)\u001b[0m\u001b[0;34m\u001b[0m\u001b[0;34m\u001b[0m\u001b[0m\n\u001b[0m\u001b[1;32m    781\u001b[0m \u001b[0;34m\u001b[0m\u001b[0m\n\u001b[1;32m    782\u001b[0m                 \u001b[0;32mif\u001b[0m \u001b[0misinstance\u001b[0m\u001b[0;34m(\u001b[0m\u001b[0mdata\u001b[0m\u001b[0;34m,\u001b[0m \u001b[0mABCSeries\u001b[0m\u001b[0;34m)\u001b[0m\u001b[0;34m:\u001b[0m\u001b[0;34m\u001b[0m\u001b[0;34m\u001b[0m\u001b[0m\n",
      "\u001b[0;32m/home/iuliia/snap/jupyter/common/lib/python3.7/site-packages/pandas/core/frame.py\u001b[0m in \u001b[0;36m__getitem__\u001b[0;34m(self, key)\u001b[0m\n\u001b[1;32m   2993\u001b[0m             \u001b[0;32mif\u001b[0m \u001b[0mself\u001b[0m\u001b[0;34m.\u001b[0m\u001b[0mcolumns\u001b[0m\u001b[0;34m.\u001b[0m\u001b[0mnlevels\u001b[0m \u001b[0;34m>\u001b[0m \u001b[0;36m1\u001b[0m\u001b[0;34m:\u001b[0m\u001b[0;34m\u001b[0m\u001b[0;34m\u001b[0m\u001b[0m\n\u001b[1;32m   2994\u001b[0m                 \u001b[0;32mreturn\u001b[0m \u001b[0mself\u001b[0m\u001b[0;34m.\u001b[0m\u001b[0m_getitem_multilevel\u001b[0m\u001b[0;34m(\u001b[0m\u001b[0mkey\u001b[0m\u001b[0;34m)\u001b[0m\u001b[0;34m\u001b[0m\u001b[0;34m\u001b[0m\u001b[0m\n\u001b[0;32m-> 2995\u001b[0;31m             \u001b[0mindexer\u001b[0m \u001b[0;34m=\u001b[0m \u001b[0mself\u001b[0m\u001b[0;34m.\u001b[0m\u001b[0mcolumns\u001b[0m\u001b[0;34m.\u001b[0m\u001b[0mget_loc\u001b[0m\u001b[0;34m(\u001b[0m\u001b[0mkey\u001b[0m\u001b[0;34m)\u001b[0m\u001b[0;34m\u001b[0m\u001b[0;34m\u001b[0m\u001b[0m\n\u001b[0m\u001b[1;32m   2996\u001b[0m             \u001b[0;32mif\u001b[0m \u001b[0mis_integer\u001b[0m\u001b[0;34m(\u001b[0m\u001b[0mindexer\u001b[0m\u001b[0;34m)\u001b[0m\u001b[0;34m:\u001b[0m\u001b[0;34m\u001b[0m\u001b[0;34m\u001b[0m\u001b[0m\n\u001b[1;32m   2997\u001b[0m                 \u001b[0mindexer\u001b[0m \u001b[0;34m=\u001b[0m \u001b[0;34m[\u001b[0m\u001b[0mindexer\u001b[0m\u001b[0;34m]\u001b[0m\u001b[0;34m\u001b[0m\u001b[0;34m\u001b[0m\u001b[0m\n",
      "\u001b[0;32m/home/iuliia/snap/jupyter/common/lib/python3.7/site-packages/pandas/core/indexes/base.py\u001b[0m in \u001b[0;36mget_loc\u001b[0;34m(self, key, method, tolerance)\u001b[0m\n\u001b[1;32m   2897\u001b[0m                 \u001b[0;32mreturn\u001b[0m \u001b[0mself\u001b[0m\u001b[0;34m.\u001b[0m\u001b[0m_engine\u001b[0m\u001b[0;34m.\u001b[0m\u001b[0mget_loc\u001b[0m\u001b[0;34m(\u001b[0m\u001b[0mkey\u001b[0m\u001b[0;34m)\u001b[0m\u001b[0;34m\u001b[0m\u001b[0;34m\u001b[0m\u001b[0m\n\u001b[1;32m   2898\u001b[0m             \u001b[0;32mexcept\u001b[0m \u001b[0mKeyError\u001b[0m\u001b[0;34m:\u001b[0m\u001b[0;34m\u001b[0m\u001b[0;34m\u001b[0m\u001b[0m\n\u001b[0;32m-> 2899\u001b[0;31m                 \u001b[0;32mreturn\u001b[0m \u001b[0mself\u001b[0m\u001b[0;34m.\u001b[0m\u001b[0m_engine\u001b[0m\u001b[0;34m.\u001b[0m\u001b[0mget_loc\u001b[0m\u001b[0;34m(\u001b[0m\u001b[0mself\u001b[0m\u001b[0;34m.\u001b[0m\u001b[0m_maybe_cast_indexer\u001b[0m\u001b[0;34m(\u001b[0m\u001b[0mkey\u001b[0m\u001b[0;34m)\u001b[0m\u001b[0;34m)\u001b[0m\u001b[0;34m\u001b[0m\u001b[0;34m\u001b[0m\u001b[0m\n\u001b[0m\u001b[1;32m   2900\u001b[0m         \u001b[0mindexer\u001b[0m \u001b[0;34m=\u001b[0m \u001b[0mself\u001b[0m\u001b[0;34m.\u001b[0m\u001b[0mget_indexer\u001b[0m\u001b[0;34m(\u001b[0m\u001b[0;34m[\u001b[0m\u001b[0mkey\u001b[0m\u001b[0;34m]\u001b[0m\u001b[0;34m,\u001b[0m \u001b[0mmethod\u001b[0m\u001b[0;34m=\u001b[0m\u001b[0mmethod\u001b[0m\u001b[0;34m,\u001b[0m \u001b[0mtolerance\u001b[0m\u001b[0;34m=\u001b[0m\u001b[0mtolerance\u001b[0m\u001b[0;34m)\u001b[0m\u001b[0;34m\u001b[0m\u001b[0;34m\u001b[0m\u001b[0m\n\u001b[1;32m   2901\u001b[0m         \u001b[0;32mif\u001b[0m \u001b[0mindexer\u001b[0m\u001b[0;34m.\u001b[0m\u001b[0mndim\u001b[0m \u001b[0;34m>\u001b[0m \u001b[0;36m1\u001b[0m \u001b[0;32mor\u001b[0m \u001b[0mindexer\u001b[0m\u001b[0;34m.\u001b[0m\u001b[0msize\u001b[0m \u001b[0;34m>\u001b[0m \u001b[0;36m1\u001b[0m\u001b[0;34m:\u001b[0m\u001b[0;34m\u001b[0m\u001b[0;34m\u001b[0m\u001b[0m\n",
      "\u001b[0;32mpandas/_libs/index.pyx\u001b[0m in \u001b[0;36mpandas._libs.index.IndexEngine.get_loc\u001b[0;34m()\u001b[0m\n",
      "\u001b[0;32mpandas/_libs/index.pyx\u001b[0m in \u001b[0;36mpandas._libs.index.IndexEngine.get_loc\u001b[0;34m()\u001b[0m\n",
      "\u001b[0;32mpandas/_libs/hashtable_class_helper.pxi\u001b[0m in \u001b[0;36mpandas._libs.hashtable.PyObjectHashTable.get_item\u001b[0;34m()\u001b[0m\n",
      "\u001b[0;32mpandas/_libs/hashtable_class_helper.pxi\u001b[0m in \u001b[0;36mpandas._libs.hashtable.PyObjectHashTable.get_item\u001b[0;34m()\u001b[0m\n",
      "\u001b[0;31mKeyError\u001b[0m: 'plot_new_cases_world'"
     ]
    },
    {
     "data": {
      "image/png": "[encoded data removed]",
      "text/plain": [
       "<Figure size 936x576 with 1 Axes>"
      ]
     },
     "metadata": {
      "needs_background": "light"
     },
     "output_type": "display_data"
    }
   ],
   "source": [
    "# plot new daily cases in the world on one graph\n",
    "fig = df_cases_mobility.plot(figsize = (13, 8), x='Date', y='Tfl Tube use change percentage', label = 'Tfl Tube use change percentage from the Baseline', marker = 'o')\n",
    "df_cases_mobility.plot(x='Date', y='National rail use change percentage', label = 'National rail use change percentage', ax=fig, marker = 'o')\n",
    "df_cases_mobility.plot(x='Date', y='plot_new_cases_world', label = 'New Cases in the world in 1000s', ax=fig, marker = 'o', color='red')\n",
    "fig.axvline(x='2020-03-23', color='gray', linestyle='--', label = 'Lockdown introduction')\n",
    "fig.set_ylabel('Change from the baseline in percent')\n",
    "fig.set_xlabel('Date')\n",
    "fig.axvspan('2020-03-23', '2020-05-29', alpha=0.1, color='gray')\n",
    "plt.title(\"New Cases in the world vs Transport Use\")\n",
    "plt.ylim(-130, 130)\n",
    "plt.xticks(['2020-02-27', '2020-03-01', '2020-03-15', '2020-03-23', '2020-04-01', '2020-04-15', '2020-05-01', '2020-05-15', '2020-05-29'], ['Feb 27', 'March 1', 'March 15', 'March 23 \\n LOCKDOWN', 'April 1', 'April 15', 'May 1', 'May 15', 'May 29'],rotation=20)\n",
    "\n",
    "plt.grid(axis='y')\n",
    "ax.legend()\n",
    "fig.legend()\n",
    "plt.show()"
   ]
  },
  {
   "cell_type": "markdown",
   "metadata": {},
   "source": [
    "Again, we can observe quite a strong correlation of New Daily Cases with transport use.\n",
    "\n",
    "The graph shows no huge spikes that mark significant outliers in the data. Therefore, we cannot assume any signicant dataset errors."
   ]
  },
  {
   "cell_type": "code",
   "execution_count": null,
   "metadata": {},
   "outputs": [],
   "source": []
  },
  {
   "cell_type": "code",
   "execution_count": null,
   "metadata": {
    "scrolled": false
   },
   "outputs": [],
   "source": []
  },
  {
   "cell_type": "code",
   "execution_count": null,
   "metadata": {},
   "outputs": [],
   "source": []
  }
 ],
 "metadata": {
  "kernelspec": {
   "display_name": "Python 3",
   "language": "python",
   "name": "python3"
  },
  "language_info": {
   "codemirror_mode": {
    "name": "ipython",
    "version": 3
   },
   "file_extension": ".py",
   "mimetype": "text/x-python",
   "name": "python",
   "nbconvert_exporter": "python",
   "pygments_lexer": "ipython3",
   "version": "3.7.3"
  }
 },
 "nbformat": 4,
 "nbformat_minor": 2
}
