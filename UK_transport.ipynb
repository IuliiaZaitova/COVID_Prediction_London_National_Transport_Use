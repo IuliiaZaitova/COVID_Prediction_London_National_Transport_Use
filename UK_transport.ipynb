{
 "cells": [
  {
   "cell_type": "markdown",
   "metadata": {},
   "source": [
    "# Calculating the COVID-19 mobility change impact on TfL Tube in London"
   ]
  },
  {
   "cell_type": "code",
   "execution_count": 1,
   "metadata": {},
   "outputs": [],
   "source": [
    "# importing packages\n",
    "import numpy as np\n",
    "import pandas as pd\n",
    "from sklearn.model_selection import train_test_split\n",
    "import matplotlib.pyplot as plt\n",
    "from statistics import median"
   ]
  },
  {
   "cell_type": "code",
   "execution_count": 2,
   "metadata": {},
   "outputs": [
    {
     "name": "stderr",
     "output_type": "stream",
     "text": [
      "/snap/jupyter/6/lib/python3.7/site-packages/IPython/core/interactiveshell.py:3049: DtypeWarning: Columns (3) have mixed types. Specify dtype option on import or set low_memory=False.\n",
      "  interactivity=interactivity, compiler=compiler, result=result)\n"
     ]
    }
   ],
   "source": [
    "# importing data from the csv-files\n",
    "path_mobility_report = 'Global_Mobility_Report.csv'\n",
    "path_transport_report = 'Transport_Use_Report.csv'\n",
    "path_transport_report0 = 'Transport_Use_Report0.csv'\n",
    "\n",
    "df_mobility = pd.read_csv(path_mobility_report, parse_dates = ['date'], dayfirst=False) # Google mobility reports\n",
    "df_transport0 = pd.read_csv(path_transport_report0, parse_dates = ['Date']) # the first UK transport dataset\n",
    "df_transport = pd.read_csv(path_transport_report, parse_dates = ['Date'], dayfirst=True) # the second UK transport dataset"
   ]
  },
  {
   "cell_type": "code",
   "execution_count": 3,
   "metadata": {},
   "outputs": [],
   "source": [
    "# cleaning the data\n",
    "df_transport01 = df_transport0.transpose()\n",
    "df_transport01.reset_index(level=0, inplace=True)\n",
    "df_transport01.columns = ['Date', 'All motor vehicles','National rail', 'TfL - Tube % change', 'TfL - Bus % change']\n",
    "df_transport01.drop(df_transport01.index[0], inplace=True)\n",
    "date_df = pd.DataFrame({'year': [2020]*34,\n",
    "                   'month': [2]*4+[3]*30,\n",
    "                   'day': [1,27,28,29]+list(range(1,31))})\n",
    "df_transport01['Date'] = pd.to_datetime(date_df)\n",
    "df_transport.dropna(inplace = True)\n",
    "\n",
    "# turn percentage into integers\n",
    "def into_int(column):\n",
    "    '''\n",
    "    param column: a column in a dataframe / a list with percentages\n",
    "    '''\n",
    "    list1 = []\n",
    "    for i in column:\n",
    "        l = int(i[:-1])-100\n",
    "        list1.append(l)\n",
    "    return list1\n",
    "df_transport['Percentage'] = into_int(df_transport['Percentage'])"
   ]
  },
  {
   "cell_type": "code",
   "execution_count": 7,
   "metadata": {},
   "outputs": [
    {
     "data": {
      "text/plain": [
       "date                                       False\n",
       "workplaces_percent_change_from_baseline    False\n",
       "dtype: bool"
      ]
     },
     "execution_count": 7,
     "metadata": {},
     "output_type": "execute_result"
    }
   ],
   "source": [
    "# Look at how the mobility changed in the\n",
    "uk_mobility = df_mobility[df_mobility['country_region'] == 'United Kingdom']\n",
    "\n",
    "\n",
    "# choose the region under analysis\n",
    "uk_mobility = uk_mobility[uk_mobility['sub_region_1'] == 'Greater London']\n",
    "# drop the sub-region column after the region is chosen\n",
    "uk_mobility.drop(columns = 'sub_region_1', inplace=True)\n",
    "# choose the columns and dates required for the analysis\n",
    "uk_mobility = uk_mobility.iloc[:,3:9:5]\n",
    "uk_mobility = uk_mobility[uk_mobility[\"date\"].isin(pd.date_range(\"2020-02-27\", \"2020-05-29\"))]\n",
    "\n",
    "# check for missing values\n",
    "uk_mobility.isnull().any()"
   ]
  },
  {
   "cell_type": "code",
   "execution_count": 5,
   "metadata": {},
   "outputs": [
    {
     "name": "stderr",
     "output_type": "stream",
     "text": [
      "/snap/jupyter/6/lib/python3.7/site-packages/ipykernel_launcher.py:12: FutureWarning: Sorting because non-concatenation axis is not aligned. A future version\n",
      "of pandas will change to not sort by default.\n",
      "\n",
      "To accept the future behavior, pass 'sort=False'.\n",
      "\n",
      "To retain the current behavior and silence the warning, pass 'sort=True'.\n",
      "\n",
      "  if sys.path[0] == '':\n"
     ]
    },
    {
     "data": {
      "text/html": [
       "<div>\n",
       "<style scoped>\n",
       "    .dataframe tbody tr th:only-of-type {\n",
       "        vertical-align: middle;\n",
       "    }\n",
       "\n",
       "    .dataframe tbody tr th {\n",
       "        vertical-align: top;\n",
       "    }\n",
       "\n",
       "    .dataframe thead th {\n",
       "        text-align: right;\n",
       "    }\n",
       "</style>\n",
       "<table border=\"1\" class=\"dataframe\">\n",
       "  <thead>\n",
       "    <tr style=\"text-align: right;\">\n",
       "      <th></th>\n",
       "      <th>Date</th>\n",
       "      <th>Percentage</th>\n",
       "    </tr>\n",
       "  </thead>\n",
       "  <tbody>\n",
       "    <tr>\n",
       "      <th>1</th>\n",
       "      <td>2020-02-27</td>\n",
       "      <td>-1</td>\n",
       "    </tr>\n",
       "    <tr>\n",
       "      <th>2</th>\n",
       "      <td>2020-02-28</td>\n",
       "      <td>-3</td>\n",
       "    </tr>\n",
       "    <tr>\n",
       "      <th>3</th>\n",
       "      <td>2020-02-29</td>\n",
       "      <td>-7</td>\n",
       "    </tr>\n",
       "    <tr>\n",
       "      <th>4</th>\n",
       "      <td>2020-03-01</td>\n",
       "      <td>4</td>\n",
       "    </tr>\n",
       "    <tr>\n",
       "      <th>5</th>\n",
       "      <td>2020-03-02</td>\n",
       "      <td>-5</td>\n",
       "    </tr>\n",
       "    <tr>\n",
       "      <th>...</th>\n",
       "      <td>...</td>\n",
       "      <td>...</td>\n",
       "    </tr>\n",
       "    <tr>\n",
       "      <th>370</th>\n",
       "      <td>2020-05-25</td>\n",
       "      <td>-91</td>\n",
       "    </tr>\n",
       "    <tr>\n",
       "      <th>371</th>\n",
       "      <td>2020-05-26</td>\n",
       "      <td>-91</td>\n",
       "    </tr>\n",
       "    <tr>\n",
       "      <th>372</th>\n",
       "      <td>2020-05-27</td>\n",
       "      <td>-92</td>\n",
       "    </tr>\n",
       "    <tr>\n",
       "      <th>373</th>\n",
       "      <td>2020-05-28</td>\n",
       "      <td>-91</td>\n",
       "    </tr>\n",
       "    <tr>\n",
       "      <th>374</th>\n",
       "      <td>2020-05-29</td>\n",
       "      <td>-91</td>\n",
       "    </tr>\n",
       "  </tbody>\n",
       "</table>\n",
       "<p>93 rows × 2 columns</p>\n",
       "</div>"
      ],
      "text/plain": [
       "          Date  Percentage\n",
       "1   2020-02-27          -1\n",
       "2   2020-02-28          -3\n",
       "3   2020-02-29          -7\n",
       "4   2020-03-01           4\n",
       "5   2020-03-02          -5\n",
       "..         ...         ...\n",
       "370 2020-05-25         -91\n",
       "371 2020-05-26         -91\n",
       "372 2020-05-27         -92\n",
       "373 2020-05-28         -91\n",
       "374 2020-05-29         -91\n",
       "\n",
       "[93 rows x 2 columns]"
      ]
     },
     "execution_count": 5,
     "metadata": {},
     "output_type": "execute_result"
    }
   ],
   "source": [
    "# combine the data in both UK-transport reports for the needed transport type\n",
    "def add_for_transport(column_name, sec_column_name):\n",
    "    '''\n",
    "    param column_name: name of the column in the first part of the UK-transport report\n",
    "    param sec_column_name: name of the column in the second part of the UK-transport report\n",
    "    '''\n",
    "    type_transport = df_transport[df_transport['Transport Type'] == column_name]\n",
    "    transport_add = df_transport01[df_transport01[\"Date\"].isin(pd.date_range(\"2020-02-27\", \"2020-03-15\"))][['Date',sec_column_name]]\n",
    "    transport_add.columns = ['Date', 'Percentage']\n",
    "    transport_add['Percentage'] = into_int(transport_add['Percentage'])\n",
    "\n",
    "    transport_added = pd.concat([transport_add,type_transport])\n",
    "    del transport_added['Transport Type']\n",
    "    return transport_added\n",
    "    \n",
    "# combine the reports for TfL Tube\n",
    "tfl_tube = add_for_transport('TfL Tube', 'TfL - Tube % change')\n",
    "tfl_tube"
   ]
  },
  {
   "cell_type": "code",
   "execution_count": 6,
   "metadata": {
    "scrolled": false
   },
   "outputs": [
    {
     "data": {
      "text/plain": [
       "<Figure size 1080x720 with 0 Axes>"
      ]
     },
     "metadata": {},
     "output_type": "display_data"
    },
    {
     "data": {
      "image/png": "[encoded data removed]",
      "text/plain": [
       "<Figure size 1080x720 with 1 Axes>"
      ]
     },
     "metadata": {
      "needs_background": "light"
     },
     "output_type": "display_data"
    }
   ],
   "source": [
    "# plot the data on the same graph\n",
    "plt.figure(figsize = (15, 10))\n",
    "ax = uk_mobility.plot(figsize = (15, 10), x='date', y='workplaces_percent_change_from_baseline', label = 'Workplace Mobility Change from the Baseline')\n",
    "tfl_tube.plot(x='Date', y='Percentage', label = 'TFL Tube Change from the Baseline', ax=ax)\n",
    "\n",
    "ax.set_ylabel('Change from the baseline in percent')\n",
    "ax.set_xlabel('Date')\n",
    "plt.ylim(-120, 120)\n",
    "plt.grid(axis='y')\n",
    "plt.show()"
   ]
  }
 ],
 "metadata": {
  "kernelspec": {
   "display_name": "Python 3",
   "language": "python",
   "name": "python3"
  },
  "language_info": {
   "codemirror_mode": {
    "name": "ipython",
    "version": 3
   },
   "file_extension": ".py",
   "mimetype": "text/x-python",
   "name": "python",
   "nbconvert_exporter": "python",
   "pygments_lexer": "ipython3",
   "version": "3.7.3"
  }
 },
 "nbformat": 4,
 "nbformat_minor": 2
}
